{
 "cells": [
  {
   "cell_type": "markdown",
   "metadata": {},
   "source": [
    "# Part One: Pandas"
   ]
  },
  {
   "cell_type": "code",
   "execution_count": 1,
   "metadata": {},
   "outputs": [],
   "source": [
    "import pandas as pd\n",
    "import numpy as np"
   ]
  },
  {
   "cell_type": "code",
   "execution_count": 2,
   "metadata": {},
   "outputs": [],
   "source": [
    "MAC270 = {'Movies_name':['Bohemian Rhapsody','Andhadhun','The Truman Show','ilenced','3 Idiots',\n",
    "                        'Dying to Survive','Perfetti sconosciuti','The Attorney','The Intouchables',\n",
    "                        'Flipped','Love Letter','Before Sunrise','Love Me If You Dare','Call Me by Your Name',\n",
    "                        'Love, Simon','Green Book','Hachi: A Dogs Tale','Confessions','Les choristes','Forrest Gump'],\n",
    "           'IMDb_rating':[ 8.1,8.5,8.1,8.1,8.4,8.1,7.8,8.5,7.6,7.7,np.NaN,8.1,7.1,7.9,7.6,8.3,np.NaN,7.8,7.9,8.8],\n",
    "           'Release_year':[2018,2018,1998,2011,np.NaN,2018,2016,2013,np.NaN,2010,1995,\n",
    "                           1994,2003,2017,2018,2018,2009,2010,2004,2004],\n",
    "           'Box_office':[899.90,320.14,264.10,30.10,69.50,453.21,31.52,74.30,121.60,4.50,8.64,5.20,\n",
    "                        8.40,41.64,66.23,310.82,np.NaN,np.NaN,83.67,677.90],\n",
    "           'Language':['English','Hindi','English','Korean','Hindi','Chinese','Italian','Korean',\n",
    "                       'French','English','Japanese','German','English','French','English','English',\n",
    "                      'Japanese','Japanese','French','English'],\n",
    "           'Running_time':[133,150,103,125,172,113,97,127,113,np.NaN,118,105,np.NaN,132,110,130,93,106,97,142]} "
   ]
  },
  {
   "cell_type": "code",
   "execution_count": 3,
   "metadata": {},
   "outputs": [],
   "source": [
    "df = pd.DataFrame(MAC270,columns = ['Movies_name','IMDb_rating','Release_year',\n",
    "                                      'Box_office','Language','Running_time'])"
   ]
  },
  {
   "cell_type": "code",
   "execution_count": 4,
   "metadata": {},
   "outputs": [
    {
     "data": {
      "text/html": [
       "<div>\n",
       "<style scoped>\n",
       "    .dataframe tbody tr th:only-of-type {\n",
       "        vertical-align: middle;\n",
       "    }\n",
       "\n",
       "    .dataframe tbody tr th {\n",
       "        vertical-align: top;\n",
       "    }\n",
       "\n",
       "    .dataframe thead th {\n",
       "        text-align: right;\n",
       "    }\n",
       "</style>\n",
       "<table border=\"1\" class=\"dataframe\">\n",
       "  <thead>\n",
       "    <tr style=\"text-align: right;\">\n",
       "      <th></th>\n",
       "      <th>Movies_name</th>\n",
       "      <th>IMDb_rating</th>\n",
       "      <th>Release_year</th>\n",
       "      <th>Box_office</th>\n",
       "      <th>Language</th>\n",
       "      <th>Running_time</th>\n",
       "    </tr>\n",
       "  </thead>\n",
       "  <tbody>\n",
       "    <tr>\n",
       "      <th>0</th>\n",
       "      <td>Bohemian Rhapsody</td>\n",
       "      <td>8.1</td>\n",
       "      <td>2018.0</td>\n",
       "      <td>899.90</td>\n",
       "      <td>English</td>\n",
       "      <td>133.0</td>\n",
       "    </tr>\n",
       "    <tr>\n",
       "      <th>1</th>\n",
       "      <td>Andhadhun</td>\n",
       "      <td>8.5</td>\n",
       "      <td>2018.0</td>\n",
       "      <td>320.14</td>\n",
       "      <td>Hindi</td>\n",
       "      <td>150.0</td>\n",
       "    </tr>\n",
       "    <tr>\n",
       "      <th>2</th>\n",
       "      <td>The Truman Show</td>\n",
       "      <td>8.1</td>\n",
       "      <td>1998.0</td>\n",
       "      <td>264.10</td>\n",
       "      <td>English</td>\n",
       "      <td>103.0</td>\n",
       "    </tr>\n",
       "    <tr>\n",
       "      <th>3</th>\n",
       "      <td>ilenced</td>\n",
       "      <td>8.1</td>\n",
       "      <td>2011.0</td>\n",
       "      <td>30.10</td>\n",
       "      <td>Korean</td>\n",
       "      <td>125.0</td>\n",
       "    </tr>\n",
       "    <tr>\n",
       "      <th>4</th>\n",
       "      <td>3 Idiots</td>\n",
       "      <td>8.4</td>\n",
       "      <td>NaN</td>\n",
       "      <td>69.50</td>\n",
       "      <td>Hindi</td>\n",
       "      <td>172.0</td>\n",
       "    </tr>\n",
       "    <tr>\n",
       "      <th>5</th>\n",
       "      <td>Dying to Survive</td>\n",
       "      <td>8.1</td>\n",
       "      <td>2018.0</td>\n",
       "      <td>453.21</td>\n",
       "      <td>Chinese</td>\n",
       "      <td>113.0</td>\n",
       "    </tr>\n",
       "    <tr>\n",
       "      <th>6</th>\n",
       "      <td>Perfetti sconosciuti</td>\n",
       "      <td>7.8</td>\n",
       "      <td>2016.0</td>\n",
       "      <td>31.52</td>\n",
       "      <td>Italian</td>\n",
       "      <td>97.0</td>\n",
       "    </tr>\n",
       "    <tr>\n",
       "      <th>7</th>\n",
       "      <td>The Attorney</td>\n",
       "      <td>8.5</td>\n",
       "      <td>2013.0</td>\n",
       "      <td>74.30</td>\n",
       "      <td>Korean</td>\n",
       "      <td>127.0</td>\n",
       "    </tr>\n",
       "    <tr>\n",
       "      <th>8</th>\n",
       "      <td>The Intouchables</td>\n",
       "      <td>7.6</td>\n",
       "      <td>NaN</td>\n",
       "      <td>121.60</td>\n",
       "      <td>French</td>\n",
       "      <td>113.0</td>\n",
       "    </tr>\n",
       "    <tr>\n",
       "      <th>9</th>\n",
       "      <td>Flipped</td>\n",
       "      <td>7.7</td>\n",
       "      <td>2010.0</td>\n",
       "      <td>4.50</td>\n",
       "      <td>English</td>\n",
       "      <td>NaN</td>\n",
       "    </tr>\n",
       "    <tr>\n",
       "      <th>10</th>\n",
       "      <td>Love Letter</td>\n",
       "      <td>NaN</td>\n",
       "      <td>1995.0</td>\n",
       "      <td>8.64</td>\n",
       "      <td>Japanese</td>\n",
       "      <td>118.0</td>\n",
       "    </tr>\n",
       "    <tr>\n",
       "      <th>11</th>\n",
       "      <td>Before Sunrise</td>\n",
       "      <td>8.1</td>\n",
       "      <td>1994.0</td>\n",
       "      <td>5.20</td>\n",
       "      <td>German</td>\n",
       "      <td>105.0</td>\n",
       "    </tr>\n",
       "    <tr>\n",
       "      <th>12</th>\n",
       "      <td>Love Me If You Dare</td>\n",
       "      <td>7.1</td>\n",
       "      <td>2003.0</td>\n",
       "      <td>8.40</td>\n",
       "      <td>English</td>\n",
       "      <td>NaN</td>\n",
       "    </tr>\n",
       "    <tr>\n",
       "      <th>13</th>\n",
       "      <td>Call Me by Your Name</td>\n",
       "      <td>7.9</td>\n",
       "      <td>2017.0</td>\n",
       "      <td>41.64</td>\n",
       "      <td>French</td>\n",
       "      <td>132.0</td>\n",
       "    </tr>\n",
       "    <tr>\n",
       "      <th>14</th>\n",
       "      <td>Love, Simon</td>\n",
       "      <td>7.6</td>\n",
       "      <td>2018.0</td>\n",
       "      <td>66.23</td>\n",
       "      <td>English</td>\n",
       "      <td>110.0</td>\n",
       "    </tr>\n",
       "    <tr>\n",
       "      <th>15</th>\n",
       "      <td>Green Book</td>\n",
       "      <td>8.3</td>\n",
       "      <td>2018.0</td>\n",
       "      <td>310.82</td>\n",
       "      <td>English</td>\n",
       "      <td>130.0</td>\n",
       "    </tr>\n",
       "    <tr>\n",
       "      <th>16</th>\n",
       "      <td>Hachi: A Dogs Tale</td>\n",
       "      <td>NaN</td>\n",
       "      <td>2009.0</td>\n",
       "      <td>NaN</td>\n",
       "      <td>Japanese</td>\n",
       "      <td>93.0</td>\n",
       "    </tr>\n",
       "    <tr>\n",
       "      <th>17</th>\n",
       "      <td>Confessions</td>\n",
       "      <td>7.8</td>\n",
       "      <td>2010.0</td>\n",
       "      <td>NaN</td>\n",
       "      <td>Japanese</td>\n",
       "      <td>106.0</td>\n",
       "    </tr>\n",
       "    <tr>\n",
       "      <th>18</th>\n",
       "      <td>Les choristes</td>\n",
       "      <td>7.9</td>\n",
       "      <td>2004.0</td>\n",
       "      <td>83.67</td>\n",
       "      <td>French</td>\n",
       "      <td>97.0</td>\n",
       "    </tr>\n",
       "    <tr>\n",
       "      <th>19</th>\n",
       "      <td>Forrest Gump</td>\n",
       "      <td>8.8</td>\n",
       "      <td>2004.0</td>\n",
       "      <td>677.90</td>\n",
       "      <td>English</td>\n",
       "      <td>142.0</td>\n",
       "    </tr>\n",
       "  </tbody>\n",
       "</table>\n",
       "</div>"
      ],
      "text/plain": [
       "             Movies_name  IMDb_rating  Release_year  Box_office  Language  \\\n",
       "0      Bohemian Rhapsody          8.1        2018.0      899.90   English   \n",
       "1              Andhadhun          8.5        2018.0      320.14     Hindi   \n",
       "2        The Truman Show          8.1        1998.0      264.10   English   \n",
       "3                ilenced          8.1        2011.0       30.10    Korean   \n",
       "4               3 Idiots          8.4           NaN       69.50     Hindi   \n",
       "5       Dying to Survive          8.1        2018.0      453.21   Chinese   \n",
       "6   Perfetti sconosciuti          7.8        2016.0       31.52   Italian   \n",
       "7           The Attorney          8.5        2013.0       74.30    Korean   \n",
       "8       The Intouchables          7.6           NaN      121.60    French   \n",
       "9                Flipped          7.7        2010.0        4.50   English   \n",
       "10           Love Letter          NaN        1995.0        8.64  Japanese   \n",
       "11        Before Sunrise          8.1        1994.0        5.20    German   \n",
       "12   Love Me If You Dare          7.1        2003.0        8.40   English   \n",
       "13  Call Me by Your Name          7.9        2017.0       41.64    French   \n",
       "14           Love, Simon          7.6        2018.0       66.23   English   \n",
       "15            Green Book          8.3        2018.0      310.82   English   \n",
       "16    Hachi: A Dogs Tale          NaN        2009.0         NaN  Japanese   \n",
       "17           Confessions          7.8        2010.0         NaN  Japanese   \n",
       "18         Les choristes          7.9        2004.0       83.67    French   \n",
       "19          Forrest Gump          8.8        2004.0      677.90   English   \n",
       "\n",
       "    Running_time  \n",
       "0          133.0  \n",
       "1          150.0  \n",
       "2          103.0  \n",
       "3          125.0  \n",
       "4          172.0  \n",
       "5          113.0  \n",
       "6           97.0  \n",
       "7          127.0  \n",
       "8          113.0  \n",
       "9            NaN  \n",
       "10         118.0  \n",
       "11         105.0  \n",
       "12           NaN  \n",
       "13         132.0  \n",
       "14         110.0  \n",
       "15         130.0  \n",
       "16          93.0  \n",
       "17         106.0  \n",
       "18          97.0  \n",
       "19         142.0  "
      ]
     },
     "execution_count": 4,
     "metadata": {},
     "output_type": "execute_result"
    }
   ],
   "source": [
    "df"
   ]
  },
  {
   "cell_type": "code",
   "execution_count": 5,
   "metadata": {},
   "outputs": [
    {
     "data": {
      "text/plain": [
       "(20, 6)"
      ]
     },
     "execution_count": 5,
     "metadata": {},
     "output_type": "execute_result"
    }
   ],
   "source": [
    "df.shape"
   ]
  },
  {
   "cell_type": "code",
   "execution_count": 6,
   "metadata": {},
   "outputs": [
    {
     "data": {
      "text/plain": [
       "Index(['Movies_name', 'IMDb_rating', 'Release_year', 'Box_office', 'Language',\n",
       "       'Running_time'],\n",
       "      dtype='object')"
      ]
     },
     "execution_count": 6,
     "metadata": {},
     "output_type": "execute_result"
    }
   ],
   "source": [
    "df.columns"
   ]
  },
  {
   "cell_type": "code",
   "execution_count": 7,
   "metadata": {},
   "outputs": [
    {
     "data": {
      "text/plain": [
       "[0, 1, 2, 3, 4, 5, 6, 7, 8, 9, 10, 11, 12, 13, 14, 15, 16, 17, 18, 19]"
      ]
     },
     "execution_count": 7,
     "metadata": {},
     "output_type": "execute_result"
    }
   ],
   "source": [
    "df.index   \n",
    "list(df.index)"
   ]
  },
  {
   "cell_type": "code",
   "execution_count": 8,
   "metadata": {},
   "outputs": [
    {
     "data": {
      "text/html": [
       "<div>\n",
       "<style scoped>\n",
       "    .dataframe tbody tr th:only-of-type {\n",
       "        vertical-align: middle;\n",
       "    }\n",
       "\n",
       "    .dataframe tbody tr th {\n",
       "        vertical-align: top;\n",
       "    }\n",
       "\n",
       "    .dataframe thead th {\n",
       "        text-align: right;\n",
       "    }\n",
       "</style>\n",
       "<table border=\"1\" class=\"dataframe\">\n",
       "  <thead>\n",
       "    <tr style=\"text-align: right;\">\n",
       "      <th></th>\n",
       "      <th>Movies_name</th>\n",
       "      <th>IMDb_rating</th>\n",
       "      <th>Release_year</th>\n",
       "      <th>Box_office</th>\n",
       "      <th>Language</th>\n",
       "      <th>Running_time</th>\n",
       "    </tr>\n",
       "  </thead>\n",
       "  <tbody>\n",
       "    <tr>\n",
       "      <th>0</th>\n",
       "      <td>Bohemian Rhapsody</td>\n",
       "      <td>8.1</td>\n",
       "      <td>2018.0</td>\n",
       "      <td>899.90</td>\n",
       "      <td>English</td>\n",
       "      <td>133.0</td>\n",
       "    </tr>\n",
       "    <tr>\n",
       "      <th>1</th>\n",
       "      <td>Andhadhun</td>\n",
       "      <td>8.5</td>\n",
       "      <td>2018.0</td>\n",
       "      <td>320.14</td>\n",
       "      <td>Hindi</td>\n",
       "      <td>150.0</td>\n",
       "    </tr>\n",
       "    <tr>\n",
       "      <th>2</th>\n",
       "      <td>The Truman Show</td>\n",
       "      <td>8.1</td>\n",
       "      <td>1998.0</td>\n",
       "      <td>264.10</td>\n",
       "      <td>English</td>\n",
       "      <td>103.0</td>\n",
       "    </tr>\n",
       "  </tbody>\n",
       "</table>\n",
       "</div>"
      ],
      "text/plain": [
       "         Movies_name  IMDb_rating  Release_year  Box_office Language  \\\n",
       "0  Bohemian Rhapsody          8.1        2018.0      899.90  English   \n",
       "1          Andhadhun          8.5        2018.0      320.14    Hindi   \n",
       "2    The Truman Show          8.1        1998.0      264.10  English   \n",
       "\n",
       "   Running_time  \n",
       "0         133.0  \n",
       "1         150.0  \n",
       "2         103.0  "
      ]
     },
     "execution_count": 8,
     "metadata": {},
     "output_type": "execute_result"
    }
   ],
   "source": [
    "df.head(3)"
   ]
  },
  {
   "cell_type": "code",
   "execution_count": 9,
   "metadata": {},
   "outputs": [
    {
     "data": {
      "text/html": [
       "<div>\n",
       "<style scoped>\n",
       "    .dataframe tbody tr th:only-of-type {\n",
       "        vertical-align: middle;\n",
       "    }\n",
       "\n",
       "    .dataframe tbody tr th {\n",
       "        vertical-align: top;\n",
       "    }\n",
       "\n",
       "    .dataframe thead th {\n",
       "        text-align: right;\n",
       "    }\n",
       "</style>\n",
       "<table border=\"1\" class=\"dataframe\">\n",
       "  <thead>\n",
       "    <tr style=\"text-align: right;\">\n",
       "      <th></th>\n",
       "      <th>Movies_name</th>\n",
       "      <th>IMDb_rating</th>\n",
       "      <th>Release_year</th>\n",
       "      <th>Box_office</th>\n",
       "      <th>Language</th>\n",
       "      <th>Running_time</th>\n",
       "    </tr>\n",
       "  </thead>\n",
       "  <tbody>\n",
       "    <tr>\n",
       "      <th>19</th>\n",
       "      <td>Forrest Gump</td>\n",
       "      <td>8.8</td>\n",
       "      <td>2004.0</td>\n",
       "      <td>677.9</td>\n",
       "      <td>English</td>\n",
       "      <td>142.0</td>\n",
       "    </tr>\n",
       "  </tbody>\n",
       "</table>\n",
       "</div>"
      ],
      "text/plain": [
       "     Movies_name  IMDb_rating  Release_year  Box_office Language  Running_time\n",
       "19  Forrest Gump          8.8        2004.0       677.9  English         142.0"
      ]
     },
     "execution_count": 9,
     "metadata": {},
     "output_type": "execute_result"
    }
   ],
   "source": [
    "df.tail(1)"
   ]
  },
  {
   "cell_type": "code",
   "execution_count": 10,
   "metadata": {},
   "outputs": [
    {
     "data": {
      "text/html": [
       "<div>\n",
       "<style scoped>\n",
       "    .dataframe tbody tr th:only-of-type {\n",
       "        vertical-align: middle;\n",
       "    }\n",
       "\n",
       "    .dataframe tbody tr th {\n",
       "        vertical-align: top;\n",
       "    }\n",
       "\n",
       "    .dataframe thead th {\n",
       "        text-align: right;\n",
       "    }\n",
       "</style>\n",
       "<table border=\"1\" class=\"dataframe\">\n",
       "  <thead>\n",
       "    <tr style=\"text-align: right;\">\n",
       "      <th></th>\n",
       "      <th>Movies_name</th>\n",
       "      <th>IMDb_rating</th>\n",
       "      <th>Release_year</th>\n",
       "      <th>Box_office</th>\n",
       "      <th>Language</th>\n",
       "      <th>Running_time</th>\n",
       "      <th>new_col</th>\n",
       "    </tr>\n",
       "  </thead>\n",
       "  <tbody>\n",
       "    <tr>\n",
       "      <th>0</th>\n",
       "      <td>Bohemian Rhapsody</td>\n",
       "      <td>8.1</td>\n",
       "      <td>2018.0</td>\n",
       "      <td>899.90</td>\n",
       "      <td>English</td>\n",
       "      <td>133.0</td>\n",
       "      <td>default value</td>\n",
       "    </tr>\n",
       "    <tr>\n",
       "      <th>1</th>\n",
       "      <td>Andhadhun</td>\n",
       "      <td>8.5</td>\n",
       "      <td>2018.0</td>\n",
       "      <td>320.14</td>\n",
       "      <td>Hindi</td>\n",
       "      <td>150.0</td>\n",
       "      <td>default value</td>\n",
       "    </tr>\n",
       "    <tr>\n",
       "      <th>2</th>\n",
       "      <td>The Truman Show</td>\n",
       "      <td>8.1</td>\n",
       "      <td>1998.0</td>\n",
       "      <td>264.10</td>\n",
       "      <td>English</td>\n",
       "      <td>103.0</td>\n",
       "      <td>default value</td>\n",
       "    </tr>\n",
       "    <tr>\n",
       "      <th>3</th>\n",
       "      <td>ilenced</td>\n",
       "      <td>8.1</td>\n",
       "      <td>2011.0</td>\n",
       "      <td>30.10</td>\n",
       "      <td>Korean</td>\n",
       "      <td>125.0</td>\n",
       "      <td>default value</td>\n",
       "    </tr>\n",
       "    <tr>\n",
       "      <th>4</th>\n",
       "      <td>3 Idiots</td>\n",
       "      <td>8.4</td>\n",
       "      <td>NaN</td>\n",
       "      <td>69.50</td>\n",
       "      <td>Hindi</td>\n",
       "      <td>172.0</td>\n",
       "      <td>default value</td>\n",
       "    </tr>\n",
       "    <tr>\n",
       "      <th>5</th>\n",
       "      <td>Dying to Survive</td>\n",
       "      <td>8.1</td>\n",
       "      <td>2018.0</td>\n",
       "      <td>453.21</td>\n",
       "      <td>Chinese</td>\n",
       "      <td>113.0</td>\n",
       "      <td>default value</td>\n",
       "    </tr>\n",
       "    <tr>\n",
       "      <th>6</th>\n",
       "      <td>Perfetti sconosciuti</td>\n",
       "      <td>7.8</td>\n",
       "      <td>2016.0</td>\n",
       "      <td>31.52</td>\n",
       "      <td>Italian</td>\n",
       "      <td>97.0</td>\n",
       "      <td>default value</td>\n",
       "    </tr>\n",
       "    <tr>\n",
       "      <th>7</th>\n",
       "      <td>The Attorney</td>\n",
       "      <td>8.5</td>\n",
       "      <td>2013.0</td>\n",
       "      <td>74.30</td>\n",
       "      <td>Korean</td>\n",
       "      <td>127.0</td>\n",
       "      <td>default value</td>\n",
       "    </tr>\n",
       "    <tr>\n",
       "      <th>8</th>\n",
       "      <td>The Intouchables</td>\n",
       "      <td>7.6</td>\n",
       "      <td>NaN</td>\n",
       "      <td>121.60</td>\n",
       "      <td>French</td>\n",
       "      <td>113.0</td>\n",
       "      <td>default value</td>\n",
       "    </tr>\n",
       "    <tr>\n",
       "      <th>9</th>\n",
       "      <td>Flipped</td>\n",
       "      <td>7.7</td>\n",
       "      <td>2010.0</td>\n",
       "      <td>4.50</td>\n",
       "      <td>English</td>\n",
       "      <td>NaN</td>\n",
       "      <td>default value</td>\n",
       "    </tr>\n",
       "    <tr>\n",
       "      <th>10</th>\n",
       "      <td>Love Letter</td>\n",
       "      <td>NaN</td>\n",
       "      <td>1995.0</td>\n",
       "      <td>8.64</td>\n",
       "      <td>Japanese</td>\n",
       "      <td>118.0</td>\n",
       "      <td>default value</td>\n",
       "    </tr>\n",
       "    <tr>\n",
       "      <th>11</th>\n",
       "      <td>Before Sunrise</td>\n",
       "      <td>8.1</td>\n",
       "      <td>1994.0</td>\n",
       "      <td>5.20</td>\n",
       "      <td>German</td>\n",
       "      <td>105.0</td>\n",
       "      <td>default value</td>\n",
       "    </tr>\n",
       "    <tr>\n",
       "      <th>12</th>\n",
       "      <td>Love Me If You Dare</td>\n",
       "      <td>7.1</td>\n",
       "      <td>2003.0</td>\n",
       "      <td>8.40</td>\n",
       "      <td>English</td>\n",
       "      <td>NaN</td>\n",
       "      <td>default value</td>\n",
       "    </tr>\n",
       "    <tr>\n",
       "      <th>13</th>\n",
       "      <td>Call Me by Your Name</td>\n",
       "      <td>7.9</td>\n",
       "      <td>2017.0</td>\n",
       "      <td>41.64</td>\n",
       "      <td>French</td>\n",
       "      <td>132.0</td>\n",
       "      <td>default value</td>\n",
       "    </tr>\n",
       "    <tr>\n",
       "      <th>14</th>\n",
       "      <td>Love, Simon</td>\n",
       "      <td>7.6</td>\n",
       "      <td>2018.0</td>\n",
       "      <td>66.23</td>\n",
       "      <td>English</td>\n",
       "      <td>110.0</td>\n",
       "      <td>default value</td>\n",
       "    </tr>\n",
       "    <tr>\n",
       "      <th>15</th>\n",
       "      <td>Green Book</td>\n",
       "      <td>8.3</td>\n",
       "      <td>2018.0</td>\n",
       "      <td>310.82</td>\n",
       "      <td>English</td>\n",
       "      <td>130.0</td>\n",
       "      <td>default value</td>\n",
       "    </tr>\n",
       "    <tr>\n",
       "      <th>16</th>\n",
       "      <td>Hachi: A Dogs Tale</td>\n",
       "      <td>NaN</td>\n",
       "      <td>2009.0</td>\n",
       "      <td>NaN</td>\n",
       "      <td>Japanese</td>\n",
       "      <td>93.0</td>\n",
       "      <td>default value</td>\n",
       "    </tr>\n",
       "    <tr>\n",
       "      <th>17</th>\n",
       "      <td>Confessions</td>\n",
       "      <td>7.8</td>\n",
       "      <td>2010.0</td>\n",
       "      <td>NaN</td>\n",
       "      <td>Japanese</td>\n",
       "      <td>106.0</td>\n",
       "      <td>default value</td>\n",
       "    </tr>\n",
       "    <tr>\n",
       "      <th>18</th>\n",
       "      <td>Les choristes</td>\n",
       "      <td>7.9</td>\n",
       "      <td>2004.0</td>\n",
       "      <td>83.67</td>\n",
       "      <td>French</td>\n",
       "      <td>97.0</td>\n",
       "      <td>default value</td>\n",
       "    </tr>\n",
       "    <tr>\n",
       "      <th>19</th>\n",
       "      <td>Forrest Gump</td>\n",
       "      <td>8.8</td>\n",
       "      <td>2004.0</td>\n",
       "      <td>677.90</td>\n",
       "      <td>English</td>\n",
       "      <td>142.0</td>\n",
       "      <td>default value</td>\n",
       "    </tr>\n",
       "  </tbody>\n",
       "</table>\n",
       "</div>"
      ],
      "text/plain": [
       "             Movies_name  IMDb_rating  Release_year  Box_office  Language  \\\n",
       "0      Bohemian Rhapsody          8.1        2018.0      899.90   English   \n",
       "1              Andhadhun          8.5        2018.0      320.14     Hindi   \n",
       "2        The Truman Show          8.1        1998.0      264.10   English   \n",
       "3                ilenced          8.1        2011.0       30.10    Korean   \n",
       "4               3 Idiots          8.4           NaN       69.50     Hindi   \n",
       "5       Dying to Survive          8.1        2018.0      453.21   Chinese   \n",
       "6   Perfetti sconosciuti          7.8        2016.0       31.52   Italian   \n",
       "7           The Attorney          8.5        2013.0       74.30    Korean   \n",
       "8       The Intouchables          7.6           NaN      121.60    French   \n",
       "9                Flipped          7.7        2010.0        4.50   English   \n",
       "10           Love Letter          NaN        1995.0        8.64  Japanese   \n",
       "11        Before Sunrise          8.1        1994.0        5.20    German   \n",
       "12   Love Me If You Dare          7.1        2003.0        8.40   English   \n",
       "13  Call Me by Your Name          7.9        2017.0       41.64    French   \n",
       "14           Love, Simon          7.6        2018.0       66.23   English   \n",
       "15            Green Book          8.3        2018.0      310.82   English   \n",
       "16    Hachi: A Dogs Tale          NaN        2009.0         NaN  Japanese   \n",
       "17           Confessions          7.8        2010.0         NaN  Japanese   \n",
       "18         Les choristes          7.9        2004.0       83.67    French   \n",
       "19          Forrest Gump          8.8        2004.0      677.90   English   \n",
       "\n",
       "    Running_time        new_col  \n",
       "0          133.0  default value  \n",
       "1          150.0  default value  \n",
       "2          103.0  default value  \n",
       "3          125.0  default value  \n",
       "4          172.0  default value  \n",
       "5          113.0  default value  \n",
       "6           97.0  default value  \n",
       "7          127.0  default value  \n",
       "8          113.0  default value  \n",
       "9            NaN  default value  \n",
       "10         118.0  default value  \n",
       "11         105.0  default value  \n",
       "12           NaN  default value  \n",
       "13         132.0  default value  \n",
       "14         110.0  default value  \n",
       "15         130.0  default value  \n",
       "16          93.0  default value  \n",
       "17         106.0  default value  \n",
       "18          97.0  default value  \n",
       "19         142.0  default value  "
      ]
     },
     "execution_count": 10,
     "metadata": {},
     "output_type": "execute_result"
    }
   ],
   "source": [
    "df['new_col'] = 'default value'\n",
    "df"
   ]
  },
  {
   "cell_type": "code",
   "execution_count": 11,
   "metadata": {},
   "outputs": [
    {
     "data": {
      "text/plain": [
       "Movies_name      object\n",
       "IMDb_rating     float64\n",
       "Release_year    float64\n",
       "Box_office      float64\n",
       "Language         object\n",
       "Running_time    float64\n",
       "new_col          object\n",
       "dtype: object"
      ]
     },
     "execution_count": 11,
     "metadata": {},
     "output_type": "execute_result"
    }
   ],
   "source": [
    "df.dtypes"
   ]
  },
  {
   "cell_type": "code",
   "execution_count": 12,
   "metadata": {},
   "outputs": [
    {
     "name": "stdout",
     "output_type": "stream",
     "text": [
      "\n",
      "Modified DataFrame:\n",
      "             Movies_name  IMDb_rating  Release_year  Box_office  Language  \\\n",
      "0      Bohemian Rhapsody          8.1        2018.0      899.90   English   \n",
      "1              Andhadhun          8.5        2018.0      320.14     Hindi   \n",
      "2        The Truman Show          8.1        1998.0      264.10   English   \n",
      "3                ilenced          8.1        2011.0       30.10    Korean   \n",
      "4               3 Idiots          8.4           NaN       69.50     Hindi   \n",
      "5       Dying to Survive          8.1        2018.0      453.21   Chinese   \n",
      "6   Perfetti sconosciuti          7.8        2016.0       31.52   Italian   \n",
      "7           The Attorney          8.5        2013.0       74.30    Korean   \n",
      "8       The Intouchables          7.6           NaN      121.60    French   \n",
      "9                Flipped          7.7        2010.0        4.50   English   \n",
      "10           Love Letter          NaN        1995.0        8.64  Japanese   \n",
      "11        Before Sunrise          8.1        1994.0        5.20    German   \n",
      "12   Love Me If You Dare          7.1        2003.0        8.40   English   \n",
      "13  Call Me by Your Name          7.9        2017.0       41.64    French   \n",
      "14           Love, Simon          7.6        2018.0       66.23   English   \n",
      "15            Green Book          8.3        2018.0      310.82   English   \n",
      "16    Hachi: A Dogs Tale          NaN        2009.0         NaN  Japanese   \n",
      "17           Confessions          7.8        2010.0         NaN  Japanese   \n",
      "18         Les choristes          7.9        2004.0       83.67    French   \n",
      "19          Forrest Gump          8.8        2004.0      677.90   English   \n",
      "\n",
      "    Running_time  \n",
      "0          133.0  \n",
      "1          150.0  \n",
      "2          103.0  \n",
      "3          125.0  \n",
      "4          172.0  \n",
      "5          113.0  \n",
      "6           97.0  \n",
      "7          127.0  \n",
      "8          113.0  \n",
      "9            NaN  \n",
      "10         118.0  \n",
      "11         105.0  \n",
      "12           NaN  \n",
      "13         132.0  \n",
      "14         110.0  \n",
      "15         130.0  \n",
      "16          93.0  \n",
      "17         106.0  \n",
      "18          97.0  \n",
      "19         142.0  \n"
     ]
    }
   ],
   "source": [
    "df = pd.DataFrame(MAC270,columns = ['Movies_name','IMDb_rating','Release_year',\n",
    "                                      'Box_office','Language','Running_time','new_col'])\n",
    "print('\\nModified DataFrame:')\n",
    "df.drop(['new_col'], 1, inplace=True)\n",
    "print(df)"
   ]
  },
  {
   "cell_type": "markdown",
   "metadata": {},
   "source": [
    "# Question: Create a scatterplot with the Box_office and Running_time"
   ]
  },
  {
   "cell_type": "code",
   "execution_count": 13,
   "metadata": {},
   "outputs": [],
   "source": [
    "import matplotlib.pyplot as plt"
   ]
  },
  {
   "cell_type": "code",
   "execution_count": 14,
   "metadata": {},
   "outputs": [
    {
     "data": {
      "text/plain": [
       "<matplotlib.collections.PathCollection at 0x11de0b2b0>"
      ]
     },
     "execution_count": 14,
     "metadata": {},
     "output_type": "execute_result"
    },
    {
     "data": {
      "image/png": "[encoded data removed]",
      "text/plain": [
       "<Figure size 432x288 with 1 Axes>"
      ]
     },
     "metadata": {
      "needs_background": "light"
     },
     "output_type": "display_data"
    }
   ],
   "source": [
    "fig,axes = plt.subplots()\n",
    "axes.set_xlabel('Box_office')\n",
    "axes.set_ylabel('Running_time')\n",
    "plt.scatter(df['Box_office'], df['Running_time'],)"
   ]
  },
  {
   "cell_type": "markdown",
   "metadata": {},
   "source": [
    "# Part two: Data Visualization"
   ]
  },
  {
   "cell_type": "code",
   "execution_count": 15,
   "metadata": {},
   "outputs": [],
   "source": [
    "import matplotlib.pyplot as plt\n",
    "from matplotlib import pylab\n",
    "import pandas as pd\n",
    "import numpy as np\n",
    "%matplotlib inline"
   ]
  },
  {
   "cell_type": "code",
   "execution_count": 16,
   "metadata": {},
   "outputs": [],
   "source": [
    "MAC270 = pd.read_table('/Users/colin/downloads/chipotle.tsv')"
   ]
  },
  {
   "cell_type": "code",
   "execution_count": 17,
   "metadata": {},
   "outputs": [
    {
     "data": {
      "text/html": [
       "<div>\n",
       "<style scoped>\n",
       "    .dataframe tbody tr th:only-of-type {\n",
       "        vertical-align: middle;\n",
       "    }\n",
       "\n",
       "    .dataframe tbody tr th {\n",
       "        vertical-align: top;\n",
       "    }\n",
       "\n",
       "    .dataframe thead th {\n",
       "        text-align: right;\n",
       "    }\n",
       "</style>\n",
       "<table border=\"1\" class=\"dataframe\">\n",
       "  <thead>\n",
       "    <tr style=\"text-align: right;\">\n",
       "      <th></th>\n",
       "      <th>order_id</th>\n",
       "      <th>quantity</th>\n",
       "      <th>item_name</th>\n",
       "      <th>choice_description</th>\n",
       "      <th>item_price</th>\n",
       "    </tr>\n",
       "  </thead>\n",
       "  <tbody>\n",
       "    <tr>\n",
       "      <th>0</th>\n",
       "      <td>1</td>\n",
       "      <td>1</td>\n",
       "      <td>Chips and Fresh Tomato Salsa</td>\n",
       "      <td>NaN</td>\n",
       "      <td>$2.39</td>\n",
       "    </tr>\n",
       "    <tr>\n",
       "      <th>1</th>\n",
       "      <td>1</td>\n",
       "      <td>1</td>\n",
       "      <td>Izze</td>\n",
       "      <td>[Clementine]</td>\n",
       "      <td>$3.39</td>\n",
       "    </tr>\n",
       "    <tr>\n",
       "      <th>2</th>\n",
       "      <td>1</td>\n",
       "      <td>1</td>\n",
       "      <td>Nantucket Nectar</td>\n",
       "      <td>[Apple]</td>\n",
       "      <td>$3.39</td>\n",
       "    </tr>\n",
       "    <tr>\n",
       "      <th>3</th>\n",
       "      <td>1</td>\n",
       "      <td>1</td>\n",
       "      <td>Chips and Tomatillo-Green Chili Salsa</td>\n",
       "      <td>NaN</td>\n",
       "      <td>$2.39</td>\n",
       "    </tr>\n",
       "    <tr>\n",
       "      <th>4</th>\n",
       "      <td>2</td>\n",
       "      <td>2</td>\n",
       "      <td>Chicken Bowl</td>\n",
       "      <td>[Tomatillo-Red Chili Salsa (Hot), [Black Beans...</td>\n",
       "      <td>$16.98</td>\n",
       "    </tr>\n",
       "  </tbody>\n",
       "</table>\n",
       "</div>"
      ],
      "text/plain": [
       "   order_id  quantity                              item_name  \\\n",
       "0         1         1           Chips and Fresh Tomato Salsa   \n",
       "1         1         1                                   Izze   \n",
       "2         1         1                       Nantucket Nectar   \n",
       "3         1         1  Chips and Tomatillo-Green Chili Salsa   \n",
       "4         2         2                           Chicken Bowl   \n",
       "\n",
       "                                  choice_description item_price  \n",
       "0                                                NaN     $2.39   \n",
       "1                                       [Clementine]     $3.39   \n",
       "2                                            [Apple]     $3.39   \n",
       "3                                                NaN     $2.39   \n",
       "4  [Tomatillo-Red Chili Salsa (Hot), [Black Beans...    $16.98   "
      ]
     },
     "execution_count": 17,
     "metadata": {},
     "output_type": "execute_result"
    }
   ],
   "source": [
    "MAC270.head(5)"
   ]
  },
  {
   "cell_type": "code",
   "execution_count": 18,
   "metadata": {},
   "outputs": [
    {
     "data": {
      "image/png": "[encoded data removed]",
      "text/plain": [
       "<Figure size 432x288 with 1 Axes>"
      ]
     },
     "metadata": {
      "needs_background": "light"
     },
     "output_type": "display_data"
    }
   ],
   "source": [
    "items = MAC270.item_name.value_counts()[:5].plot(kind = 'bar')"
   ]
  },
  {
   "cell_type": "code",
   "execution_count": 19,
   "metadata": {},
   "outputs": [],
   "source": [
    "MAC270['item_price'] = MAC270['item_price'].str.replace('$','')\n",
    "MAC270['item_price'] = MAC270['item_price'].astype(float)"
   ]
  },
  {
   "cell_type": "code",
   "execution_count": 20,
   "metadata": {},
   "outputs": [
    {
     "data": {
      "text/plain": [
       "<matplotlib.axes._subplots.AxesSubplot at 0x11df23048>"
      ]
     },
     "execution_count": 20,
     "metadata": {},
     "output_type": "execute_result"
    },
    {
     "data": {
      "image/png": "[encoded data removed]",
      "text/plain": [
       "<Figure size 1080x720 with 1 Axes>"
      ]
     },
     "metadata": {
      "needs_background": "light"
     },
     "output_type": "display_data"
    }
   ],
   "source": [
    "MAC270.plot.scatter(x='item_price',y='quantity',figsize = (15,10))"
   ]
  },
  {
   "cell_type": "markdown",
   "metadata": {},
   "source": [
    "# Question1: Can you create a scatterplot with regression line \n",
    "# with the number of items ordered and per price"
   ]
  },
  {
   "cell_type": "code",
   "execution_count": 21,
   "metadata": {},
   "outputs": [
    {
     "name": "stderr",
     "output_type": "stream",
     "text": [
      "/Users/colin/anaconda3/lib/python3.7/site-packages/scipy/stats/stats.py:1713: FutureWarning: Using a non-tuple sequence for multidimensional indexing is deprecated; use `arr[tuple(seq)]` instead of `arr[seq]`. In the future this will be interpreted as an array index, `arr[np.array(seq)]`, which will result either in an error or a different result.\n",
      "  return np.add.reduce(sorted[indexer] * weights, axis=axis) / sumval\n"
     ]
    },
    {
     "data": {
      "text/plain": [
       "<matplotlib.axes._subplots.AxesSubplot at 0x1a201eb6d8>"
      ]
     },
     "execution_count": 21,
     "metadata": {},
     "output_type": "execute_result"
    },
    {
     "data": {
      "image/png": "[encoded data removed]",
      "text/plain": [
       "<Figure size 432x288 with 1 Axes>"
      ]
     },
     "metadata": {},
     "output_type": "display_data"
    }
   ],
   "source": [
    "import seaborn as sns\n",
    "\n",
    "sns.set_style('white')\n",
    "sns.set_style('ticks')\n",
    "sns.regplot(x='item_price',y='quantity',data=MAC270)"
   ]
  },
  {
   "cell_type": "markdown",
   "metadata": {},
   "source": [
    "# Question2: Can you create a pairplot based on this data"
   ]
  },
  {
   "cell_type": "code",
   "execution_count": 22,
   "metadata": {},
   "outputs": [
    {
     "data": {
      "text/plain": [
       "<seaborn.axisgrid.PairGrid at 0x11de46748>"
      ]
     },
     "execution_count": 22,
     "metadata": {},
     "output_type": "execute_result"
    },
    {
     "data": {
      "image/png": "[encoded data removed]",
      "text/plain": [
       "<Figure size 540x540 with 12 Axes>"
      ]
     },
     "metadata": {},
     "output_type": "display_data"
    }
   ],
   "source": [
    "sns.pairplot(MAC270)"
   ]
  },
  {
   "cell_type": "code",
   "execution_count": null,
   "metadata": {},
   "outputs": [],
   "source": []
  }
 ],
 "metadata": {
  "kernelspec": {
   "display_name": "Python 3",
   "language": "python",
   "name": "python3"
  },
  "language_info": {
   "codemirror_mode": {
    "name": "ipython",
    "version": 3
   },
   "file_extension": ".py",
   "mimetype": "text/x-python",
   "name": "python",
   "nbconvert_exporter": "python",
   "pygments_lexer": "ipython3",
   "version": "3.7.1"
  }
 },
 "nbformat": 4,
 "nbformat_minor": 2
}
