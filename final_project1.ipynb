{
 "cells": [
  {
   "cell_type": "code",
   "execution_count": 9,
   "metadata": {},
   "outputs": [],
   "source": [
    "import numpy as np\n",
    "import pandas as pd\n",
    "import seaborn as sns\n",
    "from matplotlib import pyplot as plt\n",
    "%matplotlib inline\n",
    "from matplotlib.colors import ListedColormap\n",
    "\n",
    "import warnings\n",
    "warnings.filterwarnings(\"ignore\")\n",
    "from math import sqrt\n",
    "from sklearn.model_selection import train_test_split\n",
    "from sklearn.model_selection import GridSearchCV\n",
    "from sklearn.model_selection import RandomizedSearchCV\n",
    "from sklearn.linear_model import Ridge \n",
    "from sklearn.linear_model import Lasso \n",
    "from sklearn.svm import SVR \n",
    "from sklearn.ensemble import RandomForestRegressor\n",
    "from sklearn.neighbors import KNeighborsRegressor\n",
    "from sklearn.model_selection import train_test_split\n",
    "from sklearn.tree import DecisionTreeRegressor\n",
    "\n",
    "from sklearn.metrics import mean_squared_error as mse\n",
    "from sklearn.metrics import r2_score as rs\n",
    "from sklearn.metrics import mean_absolute_error as mae\n",
    "\n",
    "import os\n",
    "mingw_path = 'C:\\\\Program Files\\\\mingw-w64\\\\x86_64-7.2.0-posix-seh-rt_v5-rev0\\\\mingw64\\\\bin'\n",
    "os.environ['PATH'] = mingw_path + ';' + os.environ['PATH']\n",
    "\n",
    "from xgboost import XGBRegressor\n",
    "from xgboost import plot_importance \n",
    "\n",
    "from sklearn.externals import joblib"
   ]
  },
  {
   "cell_type": "code",
   "execution_count": 10,
   "metadata": {},
   "outputs": [],
   "source": [
    "# printing floating point numbers upto precision 2\n",
    "np.set_printoptions(precision=2, suppress=True) "
   ]
  },
  {
   "cell_type": "code",
   "execution_count": 11,
   "metadata": {},
   "outputs": [],
   "source": [
    "df = pd.read_csv(\"BlackFriday 2.csv\")"
   ]
  },
  {
   "cell_type": "code",
   "execution_count": 12,
   "metadata": {},
   "outputs": [
    {
     "data": {
      "text/plain": [
       "(537577, 12)"
      ]
     },
     "execution_count": 12,
     "metadata": {},
     "output_type": "execute_result"
    }
   ],
   "source": [
    "df.shape"
   ]
  },
  {
   "cell_type": "code",
   "execution_count": 13,
   "metadata": {},
   "outputs": [
    {
     "data": {
      "text/plain": [
       "Index(['User_ID', 'Product_ID', 'Gender', 'Age', 'Occupation', 'City_Category',\n",
       "       'Stay_In_Current_City_Years', 'Marital_Status', 'Product_Category_1',\n",
       "       'Product_Category_2', 'Product_Category_3', 'Purchase'],\n",
       "      dtype='object')"
      ]
     },
     "execution_count": 13,
     "metadata": {},
     "output_type": "execute_result"
    }
   ],
   "source": [
    "df.columns"
   ]
  },
  {
   "cell_type": "code",
   "execution_count": 14,
   "metadata": {},
   "outputs": [
    {
     "data": {
      "text/html": [
       "<div>\n",
       "<style scoped>\n",
       "    .dataframe tbody tr th:only-of-type {\n",
       "        vertical-align: middle;\n",
       "    }\n",
       "\n",
       "    .dataframe tbody tr th {\n",
       "        vertical-align: top;\n",
       "    }\n",
       "\n",
       "    .dataframe thead th {\n",
       "        text-align: right;\n",
       "    }\n",
       "</style>\n",
       "<table border=\"1\" class=\"dataframe\">\n",
       "  <thead>\n",
       "    <tr style=\"text-align: right;\">\n",
       "      <th></th>\n",
       "      <th>User_ID</th>\n",
       "      <th>Product_ID</th>\n",
       "      <th>Gender</th>\n",
       "      <th>Age</th>\n",
       "      <th>Occupation</th>\n",
       "      <th>City_Category</th>\n",
       "      <th>Stay_In_Current_City_Years</th>\n",
       "      <th>Marital_Status</th>\n",
       "      <th>Product_Category_1</th>\n",
       "      <th>Product_Category_2</th>\n",
       "      <th>Product_Category_3</th>\n",
       "      <th>Purchase</th>\n",
       "    </tr>\n",
       "  </thead>\n",
       "  <tbody>\n",
       "    <tr>\n",
       "      <th>0</th>\n",
       "      <td>1000001</td>\n",
       "      <td>P00069042</td>\n",
       "      <td>F</td>\n",
       "      <td>0-17</td>\n",
       "      <td>10</td>\n",
       "      <td>A</td>\n",
       "      <td>2</td>\n",
       "      <td>0</td>\n",
       "      <td>3</td>\n",
       "      <td>NaN</td>\n",
       "      <td>NaN</td>\n",
       "      <td>8370</td>\n",
       "    </tr>\n",
       "    <tr>\n",
       "      <th>1</th>\n",
       "      <td>1000001</td>\n",
       "      <td>P00248942</td>\n",
       "      <td>F</td>\n",
       "      <td>0-17</td>\n",
       "      <td>10</td>\n",
       "      <td>A</td>\n",
       "      <td>2</td>\n",
       "      <td>0</td>\n",
       "      <td>1</td>\n",
       "      <td>6.0</td>\n",
       "      <td>14.0</td>\n",
       "      <td>15200</td>\n",
       "    </tr>\n",
       "    <tr>\n",
       "      <th>2</th>\n",
       "      <td>1000001</td>\n",
       "      <td>P00087842</td>\n",
       "      <td>F</td>\n",
       "      <td>0-17</td>\n",
       "      <td>10</td>\n",
       "      <td>A</td>\n",
       "      <td>2</td>\n",
       "      <td>0</td>\n",
       "      <td>12</td>\n",
       "      <td>NaN</td>\n",
       "      <td>NaN</td>\n",
       "      <td>1422</td>\n",
       "    </tr>\n",
       "    <tr>\n",
       "      <th>3</th>\n",
       "      <td>1000001</td>\n",
       "      <td>P00085442</td>\n",
       "      <td>F</td>\n",
       "      <td>0-17</td>\n",
       "      <td>10</td>\n",
       "      <td>A</td>\n",
       "      <td>2</td>\n",
       "      <td>0</td>\n",
       "      <td>12</td>\n",
       "      <td>14.0</td>\n",
       "      <td>NaN</td>\n",
       "      <td>1057</td>\n",
       "    </tr>\n",
       "    <tr>\n",
       "      <th>4</th>\n",
       "      <td>1000002</td>\n",
       "      <td>P00285442</td>\n",
       "      <td>M</td>\n",
       "      <td>55+</td>\n",
       "      <td>16</td>\n",
       "      <td>C</td>\n",
       "      <td>4+</td>\n",
       "      <td>0</td>\n",
       "      <td>8</td>\n",
       "      <td>NaN</td>\n",
       "      <td>NaN</td>\n",
       "      <td>7969</td>\n",
       "    </tr>\n",
       "  </tbody>\n",
       "</table>\n",
       "</div>"
      ],
      "text/plain": [
       "   User_ID Product_ID Gender   Age  Occupation City_Category  \\\n",
       "0  1000001  P00069042      F  0-17          10             A   \n",
       "1  1000001  P00248942      F  0-17          10             A   \n",
       "2  1000001  P00087842      F  0-17          10             A   \n",
       "3  1000001  P00085442      F  0-17          10             A   \n",
       "4  1000002  P00285442      M   55+          16             C   \n",
       "\n",
       "  Stay_In_Current_City_Years  Marital_Status  Product_Category_1  \\\n",
       "0                          2               0                   3   \n",
       "1                          2               0                   1   \n",
       "2                          2               0                  12   \n",
       "3                          2               0                  12   \n",
       "4                         4+               0                   8   \n",
       "\n",
       "   Product_Category_2  Product_Category_3  Purchase  \n",
       "0                 NaN                 NaN      8370  \n",
       "1                 6.0                14.0     15200  \n",
       "2                 NaN                 NaN      1422  \n",
       "3                14.0                 NaN      1057  \n",
       "4                 NaN                 NaN      7969  "
      ]
     },
     "execution_count": 14,
     "metadata": {},
     "output_type": "execute_result"
    }
   ],
   "source": [
    "pd.set_option('display.max_columns', 20)\n",
    "df.head()"
   ]
  },
  {
   "cell_type": "markdown",
   "metadata": {},
   "source": [
    "# Some feaures are numeric and some are categorical\n",
    "# Filtering the categorical features:"
   ]
  },
  {
   "cell_type": "code",
   "execution_count": 15,
   "metadata": {},
   "outputs": [
    {
     "data": {
      "text/plain": [
       "Product_ID                    object\n",
       "Gender                        object\n",
       "Age                           object\n",
       "City_Category                 object\n",
       "Stay_In_Current_City_Years    object\n",
       "dtype: object"
      ]
     },
     "execution_count": 15,
     "metadata": {},
     "output_type": "execute_result"
    }
   ],
   "source": [
    "df.dtypes[df.dtypes=='object']"
   ]
  },
  {
   "cell_type": "markdown",
   "metadata": {},
   "source": [
    "# Distributions of numeric features"
   ]
  },
  {
   "cell_type": "code",
   "execution_count": 16,
   "metadata": {},
   "outputs": [
    {
     "data": {
      "image/png": "[encoded data removed]",
      "text/plain": [
       "<Figure size 1152x1152 with 9 Axes>"
      ]
     },
     "metadata": {
      "needs_background": "light"
     },
     "output_type": "display_data"
    }
   ],
   "source": [
    "df.hist(figsize=(16,16), xrot=-45)\n",
    "plt.show()"
   ]
  },
  {
   "cell_type": "markdown",
   "metadata": {},
   "source": [
    "# Display summary statistics for the numerical features."
   ]
  },
  {
   "cell_type": "code",
   "execution_count": 17,
   "metadata": {},
   "outputs": [
    {
     "data": {
      "text/html": [
       "<div>\n",
       "<style scoped>\n",
       "    .dataframe tbody tr th:only-of-type {\n",
       "        vertical-align: middle;\n",
       "    }\n",
       "\n",
       "    .dataframe tbody tr th {\n",
       "        vertical-align: top;\n",
       "    }\n",
       "\n",
       "    .dataframe thead th {\n",
       "        text-align: right;\n",
       "    }\n",
       "</style>\n",
       "<table border=\"1\" class=\"dataframe\">\n",
       "  <thead>\n",
       "    <tr style=\"text-align: right;\">\n",
       "      <th></th>\n",
       "      <th>User_ID</th>\n",
       "      <th>Occupation</th>\n",
       "      <th>Marital_Status</th>\n",
       "      <th>Product_Category_1</th>\n",
       "      <th>Product_Category_2</th>\n",
       "      <th>Product_Category_3</th>\n",
       "      <th>Purchase</th>\n",
       "    </tr>\n",
       "  </thead>\n",
       "  <tbody>\n",
       "    <tr>\n",
       "      <th>count</th>\n",
       "      <td>5.375770e+05</td>\n",
       "      <td>537577.00000</td>\n",
       "      <td>537577.000000</td>\n",
       "      <td>537577.000000</td>\n",
       "      <td>370591.000000</td>\n",
       "      <td>164278.000000</td>\n",
       "      <td>537577.000000</td>\n",
       "    </tr>\n",
       "    <tr>\n",
       "      <th>mean</th>\n",
       "      <td>1.002992e+06</td>\n",
       "      <td>8.08271</td>\n",
       "      <td>0.408797</td>\n",
       "      <td>5.295546</td>\n",
       "      <td>9.842144</td>\n",
       "      <td>12.669840</td>\n",
       "      <td>9333.859853</td>\n",
       "    </tr>\n",
       "    <tr>\n",
       "      <th>std</th>\n",
       "      <td>1.714393e+03</td>\n",
       "      <td>6.52412</td>\n",
       "      <td>0.491612</td>\n",
       "      <td>3.750701</td>\n",
       "      <td>5.087259</td>\n",
       "      <td>4.124341</td>\n",
       "      <td>4981.022133</td>\n",
       "    </tr>\n",
       "    <tr>\n",
       "      <th>min</th>\n",
       "      <td>1.000001e+06</td>\n",
       "      <td>0.00000</td>\n",
       "      <td>0.000000</td>\n",
       "      <td>1.000000</td>\n",
       "      <td>2.000000</td>\n",
       "      <td>3.000000</td>\n",
       "      <td>185.000000</td>\n",
       "    </tr>\n",
       "    <tr>\n",
       "      <th>25%</th>\n",
       "      <td>1.001495e+06</td>\n",
       "      <td>2.00000</td>\n",
       "      <td>0.000000</td>\n",
       "      <td>1.000000</td>\n",
       "      <td>5.000000</td>\n",
       "      <td>9.000000</td>\n",
       "      <td>5866.000000</td>\n",
       "    </tr>\n",
       "    <tr>\n",
       "      <th>50%</th>\n",
       "      <td>1.003031e+06</td>\n",
       "      <td>7.00000</td>\n",
       "      <td>0.000000</td>\n",
       "      <td>5.000000</td>\n",
       "      <td>9.000000</td>\n",
       "      <td>14.000000</td>\n",
       "      <td>8062.000000</td>\n",
       "    </tr>\n",
       "    <tr>\n",
       "      <th>75%</th>\n",
       "      <td>1.004417e+06</td>\n",
       "      <td>14.00000</td>\n",
       "      <td>1.000000</td>\n",
       "      <td>8.000000</td>\n",
       "      <td>15.000000</td>\n",
       "      <td>16.000000</td>\n",
       "      <td>12073.000000</td>\n",
       "    </tr>\n",
       "    <tr>\n",
       "      <th>max</th>\n",
       "      <td>1.006040e+06</td>\n",
       "      <td>20.00000</td>\n",
       "      <td>1.000000</td>\n",
       "      <td>18.000000</td>\n",
       "      <td>18.000000</td>\n",
       "      <td>18.000000</td>\n",
       "      <td>23961.000000</td>\n",
       "    </tr>\n",
       "  </tbody>\n",
       "</table>\n",
       "</div>"
      ],
      "text/plain": [
       "            User_ID    Occupation  Marital_Status  Product_Category_1  \\\n",
       "count  5.375770e+05  537577.00000   537577.000000       537577.000000   \n",
       "mean   1.002992e+06       8.08271        0.408797            5.295546   \n",
       "std    1.714393e+03       6.52412        0.491612            3.750701   \n",
       "min    1.000001e+06       0.00000        0.000000            1.000000   \n",
       "25%    1.001495e+06       2.00000        0.000000            1.000000   \n",
       "50%    1.003031e+06       7.00000        0.000000            5.000000   \n",
       "75%    1.004417e+06      14.00000        1.000000            8.000000   \n",
       "max    1.006040e+06      20.00000        1.000000           18.000000   \n",
       "\n",
       "       Product_Category_2  Product_Category_3       Purchase  \n",
       "count       370591.000000       164278.000000  537577.000000  \n",
       "mean             9.842144           12.669840    9333.859853  \n",
       "std              5.087259            4.124341    4981.022133  \n",
       "min              2.000000            3.000000     185.000000  \n",
       "25%              5.000000            9.000000    5866.000000  \n",
       "50%              9.000000           14.000000    8062.000000  \n",
       "75%             15.000000           16.000000   12073.000000  \n",
       "max             18.000000           18.000000   23961.000000  "
      ]
     },
     "execution_count": 17,
     "metadata": {},
     "output_type": "execute_result"
    }
   ],
   "source": [
    "df.describe()"
   ]
  },
  {
   "cell_type": "markdown",
   "metadata": {},
   "source": [
    "# Observation:"
   ]
  },
  {
   "cell_type": "markdown",
   "metadata": {},
   "source": [
    "The max of all three product categories are 18. The peoduct category 2 has the highest std."
   ]
  },
  {
   "cell_type": "code",
   "execution_count": 18,
   "metadata": {},
   "outputs": [
    {
     "data": {
      "text/html": [
       "<div>\n",
       "<style scoped>\n",
       "    .dataframe tbody tr th:only-of-type {\n",
       "        vertical-align: middle;\n",
       "    }\n",
       "\n",
       "    .dataframe tbody tr th {\n",
       "        vertical-align: top;\n",
       "    }\n",
       "\n",
       "    .dataframe thead th {\n",
       "        text-align: right;\n",
       "    }\n",
       "</style>\n",
       "<table border=\"1\" class=\"dataframe\">\n",
       "  <thead>\n",
       "    <tr style=\"text-align: right;\">\n",
       "      <th></th>\n",
       "      <th>Product_ID</th>\n",
       "      <th>Gender</th>\n",
       "      <th>Age</th>\n",
       "      <th>City_Category</th>\n",
       "      <th>Stay_In_Current_City_Years</th>\n",
       "    </tr>\n",
       "  </thead>\n",
       "  <tbody>\n",
       "    <tr>\n",
       "      <th>count</th>\n",
       "      <td>537577</td>\n",
       "      <td>537577</td>\n",
       "      <td>537577</td>\n",
       "      <td>537577</td>\n",
       "      <td>537577</td>\n",
       "    </tr>\n",
       "    <tr>\n",
       "      <th>unique</th>\n",
       "      <td>3623</td>\n",
       "      <td>2</td>\n",
       "      <td>7</td>\n",
       "      <td>3</td>\n",
       "      <td>5</td>\n",
       "    </tr>\n",
       "    <tr>\n",
       "      <th>top</th>\n",
       "      <td>P00265242</td>\n",
       "      <td>M</td>\n",
       "      <td>26-35</td>\n",
       "      <td>B</td>\n",
       "      <td>1</td>\n",
       "    </tr>\n",
       "    <tr>\n",
       "      <th>freq</th>\n",
       "      <td>1858</td>\n",
       "      <td>405380</td>\n",
       "      <td>214690</td>\n",
       "      <td>226493</td>\n",
       "      <td>189192</td>\n",
       "    </tr>\n",
       "  </tbody>\n",
       "</table>\n",
       "</div>"
      ],
      "text/plain": [
       "       Product_ID  Gender     Age City_Category Stay_In_Current_City_Years\n",
       "count      537577  537577  537577        537577                     537577\n",
       "unique       3623       2       7             3                          5\n",
       "top     P00265242       M   26-35             B                          1\n",
       "freq         1858  405380  214690        226493                     189192"
      ]
     },
     "execution_count": 18,
     "metadata": {},
     "output_type": "execute_result"
    }
   ],
   "source": [
    "df.describe(include=['object'])"
   ]
  },
  {
   "cell_type": "markdown",
   "metadata": {},
   "source": [
    "# Observation:"
   ]
  },
  {
   "cell_type": "markdown",
   "metadata": {},
   "source": [
    "The most frequent element for city category is B, it counts 226493 times."
   ]
  },
  {
   "cell_type": "markdown",
   "metadata": {},
   "source": [
    "# Segmentations:"
   ]
  },
  {
   "cell_type": "markdown",
   "metadata": {},
   "source": [
    "observe the relationship between categorical features and numeric features."
   ]
  },
  {
   "cell_type": "code",
   "execution_count": 19,
   "metadata": {},
   "outputs": [
    {
     "data": {
      "text/plain": [
       "<matplotlib.axes._subplots.AxesSubplot at 0x1a2196cd68>"
      ]
     },
     "execution_count": 19,
     "metadata": {},
     "output_type": "execute_result"
    },
    {
     "data": {
      "image/png": "[encoded data removed]",
      "text/plain": [
       "<Figure size 432x288 with 1 Axes>"
      ]
     },
     "metadata": {
      "needs_background": "light"
     },
     "output_type": "display_data"
    }
   ],
   "source": [
    "sns.boxplot(y='Age', x='Purchase', data=df)"
   ]
  },
  {
   "cell_type": "markdown",
   "metadata": {},
   "source": [
    "# Observation:"
   ]
  },
  {
   "cell_type": "markdown",
   "metadata": {},
   "source": [
    "51-55 age range has the highest purchase ability, but all of them the purchase range is around 5000-1300"
   ]
  },
  {
   "cell_type": "code",
   "execution_count": 20,
   "metadata": {},
   "outputs": [
    {
     "data": {
      "text/html": [
       "<div>\n",
       "<style scoped>\n",
       "    .dataframe tbody tr th:only-of-type {\n",
       "        vertical-align: middle;\n",
       "    }\n",
       "\n",
       "    .dataframe tbody tr th {\n",
       "        vertical-align: top;\n",
       "    }\n",
       "\n",
       "    .dataframe thead th {\n",
       "        text-align: right;\n",
       "    }\n",
       "</style>\n",
       "<table border=\"1\" class=\"dataframe\">\n",
       "  <thead>\n",
       "    <tr style=\"text-align: right;\">\n",
       "      <th></th>\n",
       "      <th>User_ID</th>\n",
       "      <th>Occupation</th>\n",
       "      <th>Marital_Status</th>\n",
       "      <th>Product_Category_1</th>\n",
       "      <th>Product_Category_2</th>\n",
       "      <th>Product_Category_3</th>\n",
       "      <th>Purchase</th>\n",
       "    </tr>\n",
       "    <tr>\n",
       "      <th>Age</th>\n",
       "      <th></th>\n",
       "      <th></th>\n",
       "      <th></th>\n",
       "      <th></th>\n",
       "      <th></th>\n",
       "      <th></th>\n",
       "      <th></th>\n",
       "    </tr>\n",
       "  </thead>\n",
       "  <tbody>\n",
       "    <tr>\n",
       "      <th>0-17</th>\n",
       "      <td>1.002676e+06</td>\n",
       "      <td>8.790236</td>\n",
       "      <td>0.000000</td>\n",
       "      <td>4.936357</td>\n",
       "      <td>9.023027</td>\n",
       "      <td>11.850282</td>\n",
       "      <td>9020.126878</td>\n",
       "    </tr>\n",
       "    <tr>\n",
       "      <th>18-25</th>\n",
       "      <td>1.002766e+06</td>\n",
       "      <td>6.737141</td>\n",
       "      <td>0.211412</td>\n",
       "      <td>5.003359</td>\n",
       "      <td>9.474317</td>\n",
       "      <td>12.395286</td>\n",
       "      <td>9235.197575</td>\n",
       "    </tr>\n",
       "    <tr>\n",
       "      <th>26-35</th>\n",
       "      <td>1.003075e+06</td>\n",
       "      <td>7.902343</td>\n",
       "      <td>0.392035</td>\n",
       "      <td>5.217085</td>\n",
       "      <td>9.810403</td>\n",
       "      <td>12.648689</td>\n",
       "      <td>9314.588970</td>\n",
       "    </tr>\n",
       "    <tr>\n",
       "      <th>36-45</th>\n",
       "      <td>1.003030e+06</td>\n",
       "      <td>8.847152</td>\n",
       "      <td>0.395418</td>\n",
       "      <td>5.387613</td>\n",
       "      <td>9.954321</td>\n",
       "      <td>12.750717</td>\n",
       "      <td>9401.478758</td>\n",
       "    </tr>\n",
       "    <tr>\n",
       "      <th>46-50</th>\n",
       "      <td>1.003152e+06</td>\n",
       "      <td>8.526367</td>\n",
       "      <td>0.723038</td>\n",
       "      <td>5.629587</td>\n",
       "      <td>10.177195</td>\n",
       "      <td>12.937952</td>\n",
       "      <td>9284.872277</td>\n",
       "    </tr>\n",
       "    <tr>\n",
       "      <th>51-55</th>\n",
       "      <td>1.002950e+06</td>\n",
       "      <td>8.809506</td>\n",
       "      <td>0.717183</td>\n",
       "      <td>5.649662</td>\n",
       "      <td>10.280446</td>\n",
       "      <td>13.108187</td>\n",
       "      <td>9620.616620</td>\n",
       "    </tr>\n",
       "    <tr>\n",
       "      <th>55+</th>\n",
       "      <td>1.002951e+06</td>\n",
       "      <td>9.537961</td>\n",
       "      <td>0.634981</td>\n",
       "      <td>5.896570</td>\n",
       "      <td>10.462992</td>\n",
       "      <td>13.154686</td>\n",
       "      <td>9453.898579</td>\n",
       "    </tr>\n",
       "  </tbody>\n",
       "</table>\n",
       "</div>"
      ],
      "text/plain": [
       "            User_ID  Occupation  Marital_Status  Product_Category_1  \\\n",
       "Age                                                                   \n",
       "0-17   1.002676e+06    8.790236        0.000000            4.936357   \n",
       "18-25  1.002766e+06    6.737141        0.211412            5.003359   \n",
       "26-35  1.003075e+06    7.902343        0.392035            5.217085   \n",
       "36-45  1.003030e+06    8.847152        0.395418            5.387613   \n",
       "46-50  1.003152e+06    8.526367        0.723038            5.629587   \n",
       "51-55  1.002950e+06    8.809506        0.717183            5.649662   \n",
       "55+    1.002951e+06    9.537961        0.634981            5.896570   \n",
       "\n",
       "       Product_Category_2  Product_Category_3     Purchase  \n",
       "Age                                                         \n",
       "0-17             9.023027           11.850282  9020.126878  \n",
       "18-25            9.474317           12.395286  9235.197575  \n",
       "26-35            9.810403           12.648689  9314.588970  \n",
       "36-45            9.954321           12.750717  9401.478758  \n",
       "46-50           10.177195           12.937952  9284.872277  \n",
       "51-55           10.280446           13.108187  9620.616620  \n",
       "55+             10.462992           13.154686  9453.898579  "
      ]
     },
     "execution_count": 20,
     "metadata": {},
     "output_type": "execute_result"
    }
   ],
   "source": [
    "df.groupby('Age').mean()"
   ]
  },
  {
   "cell_type": "code",
   "execution_count": 21,
   "metadata": {},
   "outputs": [
    {
     "data": {
      "text/html": [
       "<div>\n",
       "<style scoped>\n",
       "    .dataframe tbody tr th:only-of-type {\n",
       "        vertical-align: middle;\n",
       "    }\n",
       "\n",
       "    .dataframe tbody tr th {\n",
       "        vertical-align: top;\n",
       "    }\n",
       "\n",
       "    .dataframe thead tr th {\n",
       "        text-align: left;\n",
       "    }\n",
       "\n",
       "    .dataframe thead tr:last-of-type th {\n",
       "        text-align: right;\n",
       "    }\n",
       "</style>\n",
       "<table border=\"1\" class=\"dataframe\">\n",
       "  <thead>\n",
       "    <tr>\n",
       "      <th></th>\n",
       "      <th colspan=\"2\" halign=\"left\">User_ID</th>\n",
       "      <th colspan=\"2\" halign=\"left\">Occupation</th>\n",
       "      <th colspan=\"2\" halign=\"left\">Marital_Status</th>\n",
       "      <th colspan=\"2\" halign=\"left\">Product_Category_1</th>\n",
       "      <th colspan=\"2\" halign=\"left\">Product_Category_2</th>\n",
       "      <th colspan=\"2\" halign=\"left\">Product_Category_3</th>\n",
       "      <th colspan=\"2\" halign=\"left\">Purchase</th>\n",
       "    </tr>\n",
       "    <tr>\n",
       "      <th></th>\n",
       "      <th>mean</th>\n",
       "      <th>std</th>\n",
       "      <th>mean</th>\n",
       "      <th>std</th>\n",
       "      <th>mean</th>\n",
       "      <th>std</th>\n",
       "      <th>mean</th>\n",
       "      <th>std</th>\n",
       "      <th>mean</th>\n",
       "      <th>std</th>\n",
       "      <th>mean</th>\n",
       "      <th>std</th>\n",
       "      <th>mean</th>\n",
       "      <th>std</th>\n",
       "    </tr>\n",
       "    <tr>\n",
       "      <th>Age</th>\n",
       "      <th></th>\n",
       "      <th></th>\n",
       "      <th></th>\n",
       "      <th></th>\n",
       "      <th></th>\n",
       "      <th></th>\n",
       "      <th></th>\n",
       "      <th></th>\n",
       "      <th></th>\n",
       "      <th></th>\n",
       "      <th></th>\n",
       "      <th></th>\n",
       "      <th></th>\n",
       "      <th></th>\n",
       "    </tr>\n",
       "  </thead>\n",
       "  <tbody>\n",
       "    <tr>\n",
       "      <th>0-17</th>\n",
       "      <td>1.002676e+06</td>\n",
       "      <td>1755.525095</td>\n",
       "      <td>8.790236</td>\n",
       "      <td>4.491994</td>\n",
       "      <td>0.000000</td>\n",
       "      <td>0.000000</td>\n",
       "      <td>4.936357</td>\n",
       "      <td>3.526901</td>\n",
       "      <td>9.023027</td>\n",
       "      <td>5.176184</td>\n",
       "      <td>11.850282</td>\n",
       "      <td>4.383450</td>\n",
       "      <td>9020.126878</td>\n",
       "      <td>5060.498917</td>\n",
       "    </tr>\n",
       "    <tr>\n",
       "      <th>18-25</th>\n",
       "      <td>1.002766e+06</td>\n",
       "      <td>1716.270135</td>\n",
       "      <td>6.737141</td>\n",
       "      <td>5.949072</td>\n",
       "      <td>0.211412</td>\n",
       "      <td>0.408312</td>\n",
       "      <td>5.003359</td>\n",
       "      <td>3.610570</td>\n",
       "      <td>9.474317</td>\n",
       "      <td>5.140842</td>\n",
       "      <td>12.395286</td>\n",
       "      <td>4.243974</td>\n",
       "      <td>9235.197575</td>\n",
       "      <td>4995.723417</td>\n",
       "    </tr>\n",
       "    <tr>\n",
       "      <th>26-35</th>\n",
       "      <td>1.003075e+06</td>\n",
       "      <td>1719.986312</td>\n",
       "      <td>7.902343</td>\n",
       "      <td>6.698011</td>\n",
       "      <td>0.392035</td>\n",
       "      <td>0.488206</td>\n",
       "      <td>5.217085</td>\n",
       "      <td>3.718937</td>\n",
       "      <td>9.810403</td>\n",
       "      <td>5.075915</td>\n",
       "      <td>12.648689</td>\n",
       "      <td>4.123401</td>\n",
       "      <td>9314.588970</td>\n",
       "      <td>4974.081415</td>\n",
       "    </tr>\n",
       "    <tr>\n",
       "      <th>36-45</th>\n",
       "      <td>1.003030e+06</td>\n",
       "      <td>1677.032766</td>\n",
       "      <td>8.847152</td>\n",
       "      <td>6.588780</td>\n",
       "      <td>0.395418</td>\n",
       "      <td>0.488942</td>\n",
       "      <td>5.387613</td>\n",
       "      <td>3.809601</td>\n",
       "      <td>9.954321</td>\n",
       "      <td>5.082563</td>\n",
       "      <td>12.750717</td>\n",
       "      <td>4.078818</td>\n",
       "      <td>9401.478758</td>\n",
       "      <td>4978.252054</td>\n",
       "    </tr>\n",
       "    <tr>\n",
       "      <th>46-50</th>\n",
       "      <td>1.003152e+06</td>\n",
       "      <td>1768.300690</td>\n",
       "      <td>8.526367</td>\n",
       "      <td>6.682162</td>\n",
       "      <td>0.723038</td>\n",
       "      <td>0.447502</td>\n",
       "      <td>5.629587</td>\n",
       "      <td>3.861818</td>\n",
       "      <td>10.177195</td>\n",
       "      <td>5.016661</td>\n",
       "      <td>12.937952</td>\n",
       "      <td>3.993584</td>\n",
       "      <td>9284.872277</td>\n",
       "      <td>4921.253566</td>\n",
       "    </tr>\n",
       "    <tr>\n",
       "      <th>51-55</th>\n",
       "      <td>1.002950e+06</td>\n",
       "      <td>1667.161146</td>\n",
       "      <td>8.809506</td>\n",
       "      <td>6.664605</td>\n",
       "      <td>0.717183</td>\n",
       "      <td>0.450374</td>\n",
       "      <td>5.649662</td>\n",
       "      <td>3.918494</td>\n",
       "      <td>10.280446</td>\n",
       "      <td>5.028167</td>\n",
       "      <td>13.108187</td>\n",
       "      <td>3.941584</td>\n",
       "      <td>9620.616620</td>\n",
       "      <td>5035.326515</td>\n",
       "    </tr>\n",
       "    <tr>\n",
       "      <th>55+</th>\n",
       "      <td>1.002951e+06</td>\n",
       "      <td>1644.942652</td>\n",
       "      <td>9.537961</td>\n",
       "      <td>6.358962</td>\n",
       "      <td>0.634981</td>\n",
       "      <td>0.481447</td>\n",
       "      <td>5.896570</td>\n",
       "      <td>3.826757</td>\n",
       "      <td>10.462992</td>\n",
       "      <td>4.941885</td>\n",
       "      <td>13.154686</td>\n",
       "      <td>3.938299</td>\n",
       "      <td>9453.898579</td>\n",
       "      <td>4939.124514</td>\n",
       "    </tr>\n",
       "  </tbody>\n",
       "</table>\n",
       "</div>"
      ],
      "text/plain": [
       "            User_ID              Occupation           Marital_Status  \\\n",
       "               mean          std       mean       std           mean   \n",
       "Age                                                                    \n",
       "0-17   1.002676e+06  1755.525095   8.790236  4.491994       0.000000   \n",
       "18-25  1.002766e+06  1716.270135   6.737141  5.949072       0.211412   \n",
       "26-35  1.003075e+06  1719.986312   7.902343  6.698011       0.392035   \n",
       "36-45  1.003030e+06  1677.032766   8.847152  6.588780       0.395418   \n",
       "46-50  1.003152e+06  1768.300690   8.526367  6.682162       0.723038   \n",
       "51-55  1.002950e+06  1667.161146   8.809506  6.664605       0.717183   \n",
       "55+    1.002951e+06  1644.942652   9.537961  6.358962       0.634981   \n",
       "\n",
       "                Product_Category_1           Product_Category_2            \\\n",
       "            std               mean       std               mean       std   \n",
       "Age                                                                         \n",
       "0-17   0.000000           4.936357  3.526901           9.023027  5.176184   \n",
       "18-25  0.408312           5.003359  3.610570           9.474317  5.140842   \n",
       "26-35  0.488206           5.217085  3.718937           9.810403  5.075915   \n",
       "36-45  0.488942           5.387613  3.809601           9.954321  5.082563   \n",
       "46-50  0.447502           5.629587  3.861818          10.177195  5.016661   \n",
       "51-55  0.450374           5.649662  3.918494          10.280446  5.028167   \n",
       "55+    0.481447           5.896570  3.826757          10.462992  4.941885   \n",
       "\n",
       "      Product_Category_3               Purchase               \n",
       "                    mean       std         mean          std  \n",
       "Age                                                           \n",
       "0-17           11.850282  4.383450  9020.126878  5060.498917  \n",
       "18-25          12.395286  4.243974  9235.197575  4995.723417  \n",
       "26-35          12.648689  4.123401  9314.588970  4974.081415  \n",
       "36-45          12.750717  4.078818  9401.478758  4978.252054  \n",
       "46-50          12.937952  3.993584  9284.872277  4921.253566  \n",
       "51-55          13.108187  3.941584  9620.616620  5035.326515  \n",
       "55+            13.154686  3.938299  9453.898579  4939.124514  "
      ]
     },
     "execution_count": 21,
     "metadata": {},
     "output_type": "execute_result"
    }
   ],
   "source": [
    "df.groupby('Age').agg([np.mean, np.std])"
   ]
  },
  {
   "cell_type": "code",
   "execution_count": 22,
   "metadata": {},
   "outputs": [
    {
     "data": {
      "text/html": [
       "<div>\n",
       "<style scoped>\n",
       "    .dataframe tbody tr th:only-of-type {\n",
       "        vertical-align: middle;\n",
       "    }\n",
       "\n",
       "    .dataframe tbody tr th {\n",
       "        vertical-align: top;\n",
       "    }\n",
       "\n",
       "    .dataframe thead th {\n",
       "        text-align: right;\n",
       "    }\n",
       "</style>\n",
       "<table border=\"1\" class=\"dataframe\">\n",
       "  <thead>\n",
       "    <tr style=\"text-align: right;\">\n",
       "      <th></th>\n",
       "      <th>User_ID</th>\n",
       "      <th>Occupation</th>\n",
       "      <th>Marital_Status</th>\n",
       "      <th>Product_Category_1</th>\n",
       "      <th>Product_Category_2</th>\n",
       "      <th>Product_Category_3</th>\n",
       "      <th>Purchase</th>\n",
       "    </tr>\n",
       "  </thead>\n",
       "  <tbody>\n",
       "    <tr>\n",
       "      <th>User_ID</th>\n",
       "      <td>1.000000</td>\n",
       "      <td>-0.023024</td>\n",
       "      <td>0.018732</td>\n",
       "      <td>0.003687</td>\n",
       "      <td>0.001471</td>\n",
       "      <td>0.004045</td>\n",
       "      <td>0.005389</td>\n",
       "    </tr>\n",
       "    <tr>\n",
       "      <th>Occupation</th>\n",
       "      <td>-0.023024</td>\n",
       "      <td>1.000000</td>\n",
       "      <td>0.024691</td>\n",
       "      <td>-0.008114</td>\n",
       "      <td>-0.000031</td>\n",
       "      <td>0.013452</td>\n",
       "      <td>0.021104</td>\n",
       "    </tr>\n",
       "    <tr>\n",
       "      <th>Marital_Status</th>\n",
       "      <td>0.018732</td>\n",
       "      <td>0.024691</td>\n",
       "      <td>1.000000</td>\n",
       "      <td>0.020546</td>\n",
       "      <td>0.015116</td>\n",
       "      <td>0.019452</td>\n",
       "      <td>0.000129</td>\n",
       "    </tr>\n",
       "    <tr>\n",
       "      <th>Product_Category_1</th>\n",
       "      <td>0.003687</td>\n",
       "      <td>-0.008114</td>\n",
       "      <td>0.020546</td>\n",
       "      <td>1.000000</td>\n",
       "      <td>0.540423</td>\n",
       "      <td>0.229490</td>\n",
       "      <td>-0.314125</td>\n",
       "    </tr>\n",
       "    <tr>\n",
       "      <th>Product_Category_2</th>\n",
       "      <td>0.001471</td>\n",
       "      <td>-0.000031</td>\n",
       "      <td>0.015116</td>\n",
       "      <td>0.540423</td>\n",
       "      <td>1.000000</td>\n",
       "      <td>0.543544</td>\n",
       "      <td>-0.209973</td>\n",
       "    </tr>\n",
       "    <tr>\n",
       "      <th>Product_Category_3</th>\n",
       "      <td>0.004045</td>\n",
       "      <td>0.013452</td>\n",
       "      <td>0.019452</td>\n",
       "      <td>0.229490</td>\n",
       "      <td>0.543544</td>\n",
       "      <td>1.000000</td>\n",
       "      <td>-0.022257</td>\n",
       "    </tr>\n",
       "    <tr>\n",
       "      <th>Purchase</th>\n",
       "      <td>0.005389</td>\n",
       "      <td>0.021104</td>\n",
       "      <td>0.000129</td>\n",
       "      <td>-0.314125</td>\n",
       "      <td>-0.209973</td>\n",
       "      <td>-0.022257</td>\n",
       "      <td>1.000000</td>\n",
       "    </tr>\n",
       "  </tbody>\n",
       "</table>\n",
       "</div>"
      ],
      "text/plain": [
       "                     User_ID  Occupation  Marital_Status  Product_Category_1  \\\n",
       "User_ID             1.000000   -0.023024        0.018732            0.003687   \n",
       "Occupation         -0.023024    1.000000        0.024691           -0.008114   \n",
       "Marital_Status      0.018732    0.024691        1.000000            0.020546   \n",
       "Product_Category_1  0.003687   -0.008114        0.020546            1.000000   \n",
       "Product_Category_2  0.001471   -0.000031        0.015116            0.540423   \n",
       "Product_Category_3  0.004045    0.013452        0.019452            0.229490   \n",
       "Purchase            0.005389    0.021104        0.000129           -0.314125   \n",
       "\n",
       "                    Product_Category_2  Product_Category_3  Purchase  \n",
       "User_ID                       0.001471            0.004045  0.005389  \n",
       "Occupation                   -0.000031            0.013452  0.021104  \n",
       "Marital_Status                0.015116            0.019452  0.000129  \n",
       "Product_Category_1            0.540423            0.229490 -0.314125  \n",
       "Product_Category_2            1.000000            0.543544 -0.209973  \n",
       "Product_Category_3            0.543544            1.000000 -0.022257  \n",
       "Purchase                     -0.209973           -0.022257  1.000000  "
      ]
     },
     "execution_count": 22,
     "metadata": {},
     "output_type": "execute_result"
    }
   ],
   "source": [
    "df.corr()"
   ]
  },
  {
   "cell_type": "code",
   "execution_count": 23,
   "metadata": {},
   "outputs": [
    {
     "data": {
      "text/plain": [
       "<matplotlib.axes._subplots.AxesSubplot at 0x1a215a7320>"
      ]
     },
     "execution_count": 23,
     "metadata": {},
     "output_type": "execute_result"
    },
    {
     "data": {
      "image/png": "[encoded data removed]",
      "text/plain": [
       "<Figure size 720x576 with 2 Axes>"
      ]
     },
     "metadata": {
      "needs_background": "light"
     },
     "output_type": "display_data"
    }
   ],
   "source": [
    "plt.figure(figsize=(10,8))\n",
    "sns.heatmap(df.corr())"
   ]
  },
  {
   "cell_type": "code",
   "execution_count": 24,
   "metadata": {},
   "outputs": [
    {
     "data": {
      "image/png": "[encoded data removed]",
      "text/plain": [
       "<Figure size 720x720 with 2 Axes>"
      ]
     },
     "metadata": {
      "needs_background": "light"
     },
     "output_type": "display_data"
    }
   ],
   "source": [
    "mask=np.zeros_like(df.corr())\n",
    "mask[np.triu_indices_from(mask)] = True\n",
    "plt.figure(figsize=(10,10))\n",
    "with sns.axes_style(\"white\"):\n",
    " ax = sns.heatmap(df.corr()*100, mask=mask, fmt='.0f', annot=True, lw=1, cmap=ListedColormap(['green']))"
   ]
  },
  {
   "cell_type": "markdown",
   "metadata": {},
   "source": [
    "# Data Cleaning"
   ]
  },
  {
   "cell_type": "code",
   "execution_count": 25,
   "metadata": {},
   "outputs": [
    {
     "name": "stdout",
     "output_type": "stream",
     "text": [
      "(537577, 12)\n"
     ]
    }
   ],
   "source": [
    "#drop any duplicates \n",
    "df = df.drop_duplicates()\n",
    "print( df.shape )"
   ]
  },
  {
   "cell_type": "markdown",
   "metadata": {},
   "source": [
    "we didn't have any duplicates in our original dataset."
   ]
  },
  {
   "cell_type": "markdown",
   "metadata": {},
   "source": [
    "# Fix structural errors"
   ]
  },
  {
   "cell_type": "markdown",
   "metadata": {},
   "source": [
    "The Product_Category_2 and Product_Category_3 feature have some nan values, to handle them:"
   ]
  },
  {
   "cell_type": "code",
   "execution_count": 26,
   "metadata": {},
   "outputs": [
    {
     "data": {
      "text/plain": [
       "array([nan,  6., 14.,  2.,  8., 15., 16., 11.,  5.,  3.,  4., 12.,  9.,\n",
       "       10., 17., 13.,  7., 18.])"
      ]
     },
     "execution_count": 26,
     "metadata": {},
     "output_type": "execute_result"
    }
   ],
   "source": [
    "df.Product_Category_2.unique()"
   ]
  },
  {
   "cell_type": "markdown",
   "metadata": {},
   "source": [
    "Fill missing 'Product_Category_2' values with the value 5 to turn 'Product_Category_2' into a true indicator variable"
   ]
  },
  {
   "cell_type": "code",
   "execution_count": 27,
   "metadata": {},
   "outputs": [],
   "source": [
    "df.Product_Category_2.fillna(5, inplace=True)"
   ]
  },
  {
   "cell_type": "code",
   "execution_count": 28,
   "metadata": {},
   "outputs": [
    {
     "data": {
      "text/plain": [
       "array([ 5.,  6., 14.,  2.,  8., 15., 16., 11.,  3.,  4., 12.,  9., 10.,\n",
       "       17., 13.,  7., 18.])"
      ]
     },
     "execution_count": 28,
     "metadata": {},
     "output_type": "execute_result"
    }
   ],
   "source": [
    "df.Product_Category_2.unique()"
   ]
  },
  {
   "cell_type": "markdown",
   "metadata": {},
   "source": [
    "Fill missing 'Product_Category_3' values with the value 4 to turn 'Product_Category_3' into a true indicator variable"
   ]
  },
  {
   "cell_type": "code",
   "execution_count": 29,
   "metadata": {},
   "outputs": [
    {
     "data": {
      "text/plain": [
       "array([nan, 14., 17.,  5.,  4., 16., 15.,  8.,  9., 13.,  6., 12.,  3.,\n",
       "       18., 11., 10.])"
      ]
     },
     "execution_count": 29,
     "metadata": {},
     "output_type": "execute_result"
    }
   ],
   "source": [
    "df.Product_Category_3.unique()"
   ]
  },
  {
   "cell_type": "code",
   "execution_count": 30,
   "metadata": {},
   "outputs": [],
   "source": [
    "df.Product_Category_3.fillna(4, inplace=True)"
   ]
  },
  {
   "cell_type": "code",
   "execution_count": 31,
   "metadata": {},
   "outputs": [
    {
     "data": {
      "text/plain": [
       "array([ 4., 14., 17.,  5., 16., 15.,  8.,  9., 13.,  6., 12.,  3., 18.,\n",
       "       11., 10.])"
      ]
     },
     "execution_count": 31,
     "metadata": {},
     "output_type": "execute_result"
    }
   ],
   "source": [
    "df.Product_Category_3.unique()"
   ]
  },
  {
   "cell_type": "markdown",
   "metadata": {},
   "source": [
    "# Types and capitalization"
   ]
  },
  {
   "cell_type": "code",
   "execution_count": 32,
   "metadata": {},
   "outputs": [
    {
     "data": {
      "text/plain": [
       "<matplotlib.axes._subplots.AxesSubplot at 0x1a21d4bc18>"
      ]
     },
     "execution_count": 32,
     "metadata": {},
     "output_type": "execute_result"
    },
    {
     "data": {
      "image/png": "[encoded data removed]",
      "text/plain": [
       "<Figure size 432x288 with 1 Axes>"
      ]
     },
     "metadata": {
      "needs_background": "light"
     },
     "output_type": "display_data"
    }
   ],
   "source": [
    "# Class distributions for 'Age'\n",
    "sns.countplot(y='Age', data=df)"
   ]
  },
  {
   "cell_type": "markdown",
   "metadata": {},
   "source": [
    "# Removing Outliers"
   ]
  },
  {
   "cell_type": "code",
   "execution_count": 33,
   "metadata": {},
   "outputs": [
    {
     "data": {
      "text/plain": [
       "<matplotlib.axes._subplots.AxesSubplot at 0x10cac7dd8>"
      ]
     },
     "execution_count": 33,
     "metadata": {},
     "output_type": "execute_result"
    },
    {
     "data": {
      "image/png": "[encoded data removed]",
      "text/plain": [
       "<Figure size 432x288 with 1 Axes>"
      ]
     },
     "metadata": {
      "needs_background": "light"
     },
     "output_type": "display_data"
    }
   ],
   "source": [
    "sns.boxplot(df.Purchase)"
   ]
  },
  {
   "cell_type": "markdown",
   "metadata": {},
   "source": [
    "# Interpretation"
   ]
  },
  {
   "cell_type": "code",
   "execution_count": 34,
   "metadata": {},
   "outputs": [
    {
     "data": {
      "text/plain": [
       "87440     23961\n",
       "93016     23961\n",
       "370891    23961\n",
       "503697    23960\n",
       "321782    23960\n",
       "Name: Purchase, dtype: int64"
      ]
     },
     "execution_count": 34,
     "metadata": {},
     "output_type": "execute_result"
    }
   ],
   "source": [
    "df.Purchase.sort_values(ascending=False).head()"
   ]
  },
  {
   "cell_type": "code",
   "execution_count": 35,
   "metadata": {},
   "outputs": [
    {
     "data": {
      "text/plain": [
       "(89432, 12)"
      ]
     },
     "execution_count": 35,
     "metadata": {},
     "output_type": "execute_result"
    }
   ],
   "source": [
    "## Remove observations with Purchase greater than 5000.\n",
    "df = df[df.Purchase <= 5000]\n",
    "df.shape"
   ]
  },
  {
   "cell_type": "code",
   "execution_count": 36,
   "metadata": {},
   "outputs": [
    {
     "data": {
      "text/plain": [
       "<matplotlib.axes._subplots.AxesSubplot at 0x1a2198e710>"
      ]
     },
     "execution_count": 36,
     "metadata": {},
     "output_type": "execute_result"
    },
    {
     "data": {
      "image/png": "[encoded data removed]",
      "text/plain": [
       "<Figure size 432x288 with 1 Axes>"
      ]
     },
     "metadata": {
      "needs_background": "light"
     },
     "output_type": "display_data"
    }
   ],
   "source": [
    "## Plotting the boxplot of purchase after the change\n",
    "sns.boxplot(df.Purchase)"
   ]
  },
  {
   "cell_type": "markdown",
   "metadata": {},
   "source": [
    "# Label missing categorical data"
   ]
  },
  {
   "cell_type": "markdown",
   "metadata": {},
   "source": [
    "Display number of missing values by categorical feature"
   ]
  },
  {
   "cell_type": "code",
   "execution_count": 37,
   "metadata": {},
   "outputs": [
    {
     "data": {
      "text/plain": [
       "Product_ID                    0\n",
       "Gender                        0\n",
       "Age                           0\n",
       "City_Category                 0\n",
       "Stay_In_Current_City_Years    0\n",
       "dtype: int64"
      ]
     },
     "execution_count": 37,
     "metadata": {},
     "output_type": "execute_result"
    }
   ],
   "source": [
    "df.select_dtypes(include=['object']).isnull().sum()"
   ]
  },
  {
   "cell_type": "markdown",
   "metadata": {},
   "source": [
    "Display number of missing values by numeric feature"
   ]
  },
  {
   "cell_type": "code",
   "execution_count": 38,
   "metadata": {},
   "outputs": [
    {
     "data": {
      "text/plain": [
       "User_ID               0\n",
       "Occupation            0\n",
       "Marital_Status        0\n",
       "Product_Category_1    0\n",
       "Product_Category_2    0\n",
       "Product_Category_3    0\n",
       "Purchase              0\n",
       "dtype: int64"
      ]
     },
     "execution_count": 38,
     "metadata": {},
     "output_type": "execute_result"
    }
   ],
   "source": [
    "df.select_dtypes(exclude=['object']).isnull().sum()"
   ]
  },
  {
   "cell_type": "markdown",
   "metadata": {},
   "source": [
    "we don't have any categorical feature and numerical features with missing values in this dataset."
   ]
  },
  {
   "cell_type": "markdown",
   "metadata": {},
   "source": [
    "# Encode dummy variables (One Hot Encoding)"
   ]
  },
  {
   "cell_type": "markdown",
   "metadata": {},
   "source": [
    "Create dummy variables for our categorical features"
   ]
  },
  {
   "cell_type": "code",
   "execution_count": 39,
   "metadata": {},
   "outputs": [],
   "source": [
    "df = pd.get_dummies(df, columns=['Product_ID', 'Gender', 'Age','City_Category','Stay_In_Current_City_Years'])"
   ]
  },
  {
   "cell_type": "code",
   "execution_count": 40,
   "metadata": {},
   "outputs": [
    {
     "data": {
      "text/html": [
       "<div>\n",
       "<style scoped>\n",
       "    .dataframe tbody tr th:only-of-type {\n",
       "        vertical-align: middle;\n",
       "    }\n",
       "\n",
       "    .dataframe tbody tr th {\n",
       "        vertical-align: top;\n",
       "    }\n",
       "\n",
       "    .dataframe thead th {\n",
       "        text-align: right;\n",
       "    }\n",
       "</style>\n",
       "<table border=\"1\" class=\"dataframe\">\n",
       "  <thead>\n",
       "    <tr style=\"text-align: right;\">\n",
       "      <th></th>\n",
       "      <th>User_ID</th>\n",
       "      <th>Occupation</th>\n",
       "      <th>Marital_Status</th>\n",
       "      <th>Product_Category_1</th>\n",
       "      <th>Product_Category_2</th>\n",
       "      <th>Product_Category_3</th>\n",
       "      <th>Purchase</th>\n",
       "      <th>Product_ID_P00000142</th>\n",
       "      <th>Product_ID_P00000242</th>\n",
       "      <th>Product_ID_P00000342</th>\n",
       "      <th>...</th>\n",
       "      <th>Age_51-55</th>\n",
       "      <th>Age_55+</th>\n",
       "      <th>City_Category_A</th>\n",
       "      <th>City_Category_B</th>\n",
       "      <th>City_Category_C</th>\n",
       "      <th>Stay_In_Current_City_Years_0</th>\n",
       "      <th>Stay_In_Current_City_Years_1</th>\n",
       "      <th>Stay_In_Current_City_Years_2</th>\n",
       "      <th>Stay_In_Current_City_Years_3</th>\n",
       "      <th>Stay_In_Current_City_Years_4+</th>\n",
       "    </tr>\n",
       "  </thead>\n",
       "  <tbody>\n",
       "    <tr>\n",
       "      <th>2</th>\n",
       "      <td>1000001</td>\n",
       "      <td>10</td>\n",
       "      <td>0</td>\n",
       "      <td>12</td>\n",
       "      <td>5.0</td>\n",
       "      <td>4.0</td>\n",
       "      <td>1422</td>\n",
       "      <td>0</td>\n",
       "      <td>0</td>\n",
       "      <td>0</td>\n",
       "      <td>...</td>\n",
       "      <td>0</td>\n",
       "      <td>0</td>\n",
       "      <td>1</td>\n",
       "      <td>0</td>\n",
       "      <td>0</td>\n",
       "      <td>0</td>\n",
       "      <td>0</td>\n",
       "      <td>1</td>\n",
       "      <td>0</td>\n",
       "      <td>0</td>\n",
       "    </tr>\n",
       "    <tr>\n",
       "      <th>3</th>\n",
       "      <td>1000001</td>\n",
       "      <td>10</td>\n",
       "      <td>0</td>\n",
       "      <td>12</td>\n",
       "      <td>14.0</td>\n",
       "      <td>4.0</td>\n",
       "      <td>1057</td>\n",
       "      <td>0</td>\n",
       "      <td>0</td>\n",
       "      <td>0</td>\n",
       "      <td>...</td>\n",
       "      <td>0</td>\n",
       "      <td>0</td>\n",
       "      <td>1</td>\n",
       "      <td>0</td>\n",
       "      <td>0</td>\n",
       "      <td>0</td>\n",
       "      <td>0</td>\n",
       "      <td>1</td>\n",
       "      <td>0</td>\n",
       "      <td>0</td>\n",
       "    </tr>\n",
       "    <tr>\n",
       "      <th>11</th>\n",
       "      <td>1000005</td>\n",
       "      <td>20</td>\n",
       "      <td>1</td>\n",
       "      <td>8</td>\n",
       "      <td>5.0</td>\n",
       "      <td>4.0</td>\n",
       "      <td>3957</td>\n",
       "      <td>0</td>\n",
       "      <td>0</td>\n",
       "      <td>0</td>\n",
       "      <td>...</td>\n",
       "      <td>0</td>\n",
       "      <td>0</td>\n",
       "      <td>1</td>\n",
       "      <td>0</td>\n",
       "      <td>0</td>\n",
       "      <td>0</td>\n",
       "      <td>1</td>\n",
       "      <td>0</td>\n",
       "      <td>0</td>\n",
       "      <td>0</td>\n",
       "    </tr>\n",
       "    <tr>\n",
       "      <th>15</th>\n",
       "      <td>1000006</td>\n",
       "      <td>9</td>\n",
       "      <td>0</td>\n",
       "      <td>4</td>\n",
       "      <td>5.0</td>\n",
       "      <td>4.0</td>\n",
       "      <td>2079</td>\n",
       "      <td>0</td>\n",
       "      <td>0</td>\n",
       "      <td>0</td>\n",
       "      <td>...</td>\n",
       "      <td>1</td>\n",
       "      <td>0</td>\n",
       "      <td>1</td>\n",
       "      <td>0</td>\n",
       "      <td>0</td>\n",
       "      <td>0</td>\n",
       "      <td>1</td>\n",
       "      <td>0</td>\n",
       "      <td>0</td>\n",
       "      <td>0</td>\n",
       "    </tr>\n",
       "    <tr>\n",
       "      <th>60</th>\n",
       "      <td>1000015</td>\n",
       "      <td>7</td>\n",
       "      <td>0</td>\n",
       "      <td>5</td>\n",
       "      <td>8.0</td>\n",
       "      <td>4.0</td>\n",
       "      <td>3594</td>\n",
       "      <td>0</td>\n",
       "      <td>0</td>\n",
       "      <td>0</td>\n",
       "      <td>...</td>\n",
       "      <td>0</td>\n",
       "      <td>0</td>\n",
       "      <td>1</td>\n",
       "      <td>0</td>\n",
       "      <td>0</td>\n",
       "      <td>0</td>\n",
       "      <td>1</td>\n",
       "      <td>0</td>\n",
       "      <td>0</td>\n",
       "      <td>0</td>\n",
       "    </tr>\n",
       "  </tbody>\n",
       "</table>\n",
       "<p>5 rows × 3311 columns</p>\n",
       "</div>"
      ],
      "text/plain": [
       "    User_ID  Occupation  Marital_Status  Product_Category_1  \\\n",
       "2   1000001          10               0                  12   \n",
       "3   1000001          10               0                  12   \n",
       "11  1000005          20               1                   8   \n",
       "15  1000006           9               0                   4   \n",
       "60  1000015           7               0                   5   \n",
       "\n",
       "    Product_Category_2  Product_Category_3  Purchase  Product_ID_P00000142  \\\n",
       "2                  5.0                 4.0      1422                     0   \n",
       "3                 14.0                 4.0      1057                     0   \n",
       "11                 5.0                 4.0      3957                     0   \n",
       "15                 5.0                 4.0      2079                     0   \n",
       "60                 8.0                 4.0      3594                     0   \n",
       "\n",
       "    Product_ID_P00000242  Product_ID_P00000342              ...                \\\n",
       "2                      0                     0              ...                 \n",
       "3                      0                     0              ...                 \n",
       "11                     0                     0              ...                 \n",
       "15                     0                     0              ...                 \n",
       "60                     0                     0              ...                 \n",
       "\n",
       "    Age_51-55  Age_55+  City_Category_A  City_Category_B  City_Category_C  \\\n",
       "2           0        0                1                0                0   \n",
       "3           0        0                1                0                0   \n",
       "11          0        0                1                0                0   \n",
       "15          1        0                1                0                0   \n",
       "60          0        0                1                0                0   \n",
       "\n",
       "    Stay_In_Current_City_Years_0  Stay_In_Current_City_Years_1  \\\n",
       "2                              0                             0   \n",
       "3                              0                             0   \n",
       "11                             0                             1   \n",
       "15                             0                             1   \n",
       "60                             0                             1   \n",
       "\n",
       "    Stay_In_Current_City_Years_2  Stay_In_Current_City_Years_3  \\\n",
       "2                              1                             0   \n",
       "3                              1                             0   \n",
       "11                             0                             0   \n",
       "15                             0                             0   \n",
       "60                             0                             0   \n",
       "\n",
       "    Stay_In_Current_City_Years_4+  \n",
       "2                               0  \n",
       "3                               0  \n",
       "11                              0  \n",
       "15                              0  \n",
       "60                              0  \n",
       "\n",
       "[5 rows x 3311 columns]"
      ]
     },
     "execution_count": 40,
     "metadata": {},
     "output_type": "execute_result"
    }
   ],
   "source": [
    "df.head()"
   ]
  },
  {
   "cell_type": "markdown",
   "metadata": {},
   "source": [
    "# Save the file which we have cleaned data"
   ]
  },
  {
   "cell_type": "code",
   "execution_count": 41,
   "metadata": {},
   "outputs": [],
   "source": [
    "df.to_csv(r'|c:\\Users\\Linlin Zhu\\Desktop\\BlackFriday 10.csv', index = None)"
   ]
  },
  {
   "cell_type": "code",
   "execution_count": 43,
   "metadata": {},
   "outputs": [],
   "source": [
    "df = pd.read_csv(\"BlackFriday 10.csv\")"
   ]
  },
  {
   "cell_type": "code",
   "execution_count": 44,
   "metadata": {},
   "outputs": [
    {
     "data": {
      "text/plain": [
       "(89432, 3311)"
      ]
     },
     "execution_count": 44,
     "metadata": {},
     "output_type": "execute_result"
    }
   ],
   "source": [
    "df.shape"
   ]
  },
  {
   "cell_type": "markdown",
   "metadata": {},
   "source": [
    "# Train and Test Splits"
   ]
  },
  {
   "cell_type": "markdown",
   "metadata": {},
   "source": [
    "y is target variable and x is input features"
   ]
  },
  {
   "cell_type": "code",
   "execution_count": 45,
   "metadata": {},
   "outputs": [],
   "source": [
    "y = df.Purchase\n",
    "\n",
    "X = df.drop('Purchase', axis=1)"
   ]
  },
  {
   "cell_type": "code",
   "execution_count": 46,
   "metadata": {},
   "outputs": [],
   "source": [
    "X_train, X_test, y_train, y_test = train_test_split(X, y, test_size=0.2, random_state=1234)"
   ]
  },
  {
   "cell_type": "markdown",
   "metadata": {},
   "source": [
    "0.2 is 20% for test\n",
    "we have 4 files, therefore,1234"
   ]
  },
  {
   "cell_type": "code",
   "execution_count": 47,
   "metadata": {},
   "outputs": [
    {
     "name": "stdout",
     "output_type": "stream",
     "text": [
      "(71545, 3310) (17887, 3310) (71545,) (17887,)\n"
     ]
    }
   ],
   "source": [
    "print(X_train.shape, X_test.shape, y_train.shape, y_test.shape)"
   ]
  },
  {
   "cell_type": "code",
   "execution_count": 48,
   "metadata": {},
   "outputs": [],
   "source": [
    "train_mean = X_train.mean()\n",
    "train_std = X_train.std()"
   ]
  },
  {
   "cell_type": "markdown",
   "metadata": {},
   "source": [
    "Standardize the train data set"
   ]
  },
  {
   "cell_type": "code",
   "execution_count": 49,
   "metadata": {},
   "outputs": [],
   "source": [
    "X_train = (X_train - train_mean) / train_std"
   ]
  },
  {
   "cell_type": "markdown",
   "metadata": {},
   "source": [
    "Check for mean and std dev."
   ]
  },
  {
   "cell_type": "code",
   "execution_count": 50,
   "metadata": {},
   "outputs": [
    {
     "data": {
      "text/html": [
       "<div>\n",
       "<style scoped>\n",
       "    .dataframe tbody tr th:only-of-type {\n",
       "        vertical-align: middle;\n",
       "    }\n",
       "\n",
       "    .dataframe tbody tr th {\n",
       "        vertical-align: top;\n",
       "    }\n",
       "\n",
       "    .dataframe thead th {\n",
       "        text-align: right;\n",
       "    }\n",
       "</style>\n",
       "<table border=\"1\" class=\"dataframe\">\n",
       "  <thead>\n",
       "    <tr style=\"text-align: right;\">\n",
       "      <th></th>\n",
       "      <th>User_ID</th>\n",
       "      <th>Occupation</th>\n",
       "      <th>Marital_Status</th>\n",
       "      <th>Product_Category_1</th>\n",
       "      <th>Product_Category_2</th>\n",
       "      <th>Product_Category_3</th>\n",
       "      <th>Product_ID_P00000142</th>\n",
       "      <th>Product_ID_P00000242</th>\n",
       "      <th>Product_ID_P00000342</th>\n",
       "      <th>Product_ID_P00000442</th>\n",
       "      <th>...</th>\n",
       "      <th>Age_51-55</th>\n",
       "      <th>Age_55+</th>\n",
       "      <th>City_Category_A</th>\n",
       "      <th>City_Category_B</th>\n",
       "      <th>City_Category_C</th>\n",
       "      <th>Stay_In_Current_City_Years_0</th>\n",
       "      <th>Stay_In_Current_City_Years_1</th>\n",
       "      <th>Stay_In_Current_City_Years_2</th>\n",
       "      <th>Stay_In_Current_City_Years_3</th>\n",
       "      <th>Stay_In_Current_City_Years_4+</th>\n",
       "    </tr>\n",
       "  </thead>\n",
       "  <tbody>\n",
       "    <tr>\n",
       "      <th>count</th>\n",
       "      <td>7.154500e+04</td>\n",
       "      <td>7.154500e+04</td>\n",
       "      <td>7.154500e+04</td>\n",
       "      <td>7.154500e+04</td>\n",
       "      <td>7.154500e+04</td>\n",
       "      <td>7.154500e+04</td>\n",
       "      <td>7.154500e+04</td>\n",
       "      <td>7.154500e+04</td>\n",
       "      <td>7.154500e+04</td>\n",
       "      <td>7.154500e+04</td>\n",
       "      <td>...</td>\n",
       "      <td>7.154500e+04</td>\n",
       "      <td>7.154500e+04</td>\n",
       "      <td>7.154500e+04</td>\n",
       "      <td>7.154500e+04</td>\n",
       "      <td>7.154500e+04</td>\n",
       "      <td>7.154500e+04</td>\n",
       "      <td>7.154500e+04</td>\n",
       "      <td>7.154500e+04</td>\n",
       "      <td>7.154500e+04</td>\n",
       "      <td>7.154500e+04</td>\n",
       "    </tr>\n",
       "    <tr>\n",
       "      <th>mean</th>\n",
       "      <td>2.390887e-14</td>\n",
       "      <td>-1.016477e-15</td>\n",
       "      <td>-5.280686e-16</td>\n",
       "      <td>1.014681e-15</td>\n",
       "      <td>-3.053909e-17</td>\n",
       "      <td>1.077139e-16</td>\n",
       "      <td>-1.296632e-15</td>\n",
       "      <td>-2.102192e-15</td>\n",
       "      <td>2.609924e-15</td>\n",
       "      <td>2.317787e-15</td>\n",
       "      <td>...</td>\n",
       "      <td>9.544155e-16</td>\n",
       "      <td>-2.317470e-15</td>\n",
       "      <td>9.271623e-16</td>\n",
       "      <td>5.032494e-16</td>\n",
       "      <td>-8.497252e-17</td>\n",
       "      <td>-5.013919e-16</td>\n",
       "      <td>3.932342e-16</td>\n",
       "      <td>2.281369e-15</td>\n",
       "      <td>1.627456e-15</td>\n",
       "      <td>-5.186418e-15</td>\n",
       "    </tr>\n",
       "    <tr>\n",
       "      <th>std</th>\n",
       "      <td>1.000000e+00</td>\n",
       "      <td>1.000000e+00</td>\n",
       "      <td>1.000000e+00</td>\n",
       "      <td>1.000000e+00</td>\n",
       "      <td>1.000000e+00</td>\n",
       "      <td>1.000000e+00</td>\n",
       "      <td>1.000000e+00</td>\n",
       "      <td>1.000000e+00</td>\n",
       "      <td>1.000000e+00</td>\n",
       "      <td>1.000000e+00</td>\n",
       "      <td>...</td>\n",
       "      <td>1.000000e+00</td>\n",
       "      <td>1.000000e+00</td>\n",
       "      <td>1.000000e+00</td>\n",
       "      <td>1.000000e+00</td>\n",
       "      <td>1.000000e+00</td>\n",
       "      <td>1.000000e+00</td>\n",
       "      <td>1.000000e+00</td>\n",
       "      <td>1.000000e+00</td>\n",
       "      <td>1.000000e+00</td>\n",
       "      <td>1.000000e+00</td>\n",
       "    </tr>\n",
       "    <tr>\n",
       "      <th>min</th>\n",
       "      <td>-1.749794e+00</td>\n",
       "      <td>-1.200852e+00</td>\n",
       "      <td>-8.234512e-01</td>\n",
       "      <td>-1.475518e+00</td>\n",
       "      <td>-1.414088e+00</td>\n",
       "      <td>-7.153625e-01</td>\n",
       "      <td>-1.121646e-02</td>\n",
       "      <td>-1.586347e-02</td>\n",
       "      <td>-2.773676e-02</td>\n",
       "      <td>-2.148149e-02</td>\n",
       "      <td>...</td>\n",
       "      <td>-2.490967e-01</td>\n",
       "      <td>-1.833113e-01</td>\n",
       "      <td>-6.543332e-01</td>\n",
       "      <td>-8.766149e-01</td>\n",
       "      <td>-6.014742e-01</td>\n",
       "      <td>-4.011420e-01</td>\n",
       "      <td>-7.399190e-01</td>\n",
       "      <td>-4.727255e-01</td>\n",
       "      <td>-4.567599e-01</td>\n",
       "      <td>-4.239022e-01</td>\n",
       "    </tr>\n",
       "    <tr>\n",
       "      <th>25%</th>\n",
       "      <td>-8.853865e-01</td>\n",
       "      <td>-8.980682e-01</td>\n",
       "      <td>-8.234512e-01</td>\n",
       "      <td>-7.586975e-01</td>\n",
       "      <td>-7.730216e-01</td>\n",
       "      <td>-4.604003e-01</td>\n",
       "      <td>-1.121646e-02</td>\n",
       "      <td>-1.586347e-02</td>\n",
       "      <td>-2.773676e-02</td>\n",
       "      <td>-2.148149e-02</td>\n",
       "      <td>...</td>\n",
       "      <td>-2.490967e-01</td>\n",
       "      <td>-1.833113e-01</td>\n",
       "      <td>-6.543332e-01</td>\n",
       "      <td>-8.766149e-01</td>\n",
       "      <td>-6.014742e-01</td>\n",
       "      <td>-4.011420e-01</td>\n",
       "      <td>-7.399190e-01</td>\n",
       "      <td>-4.727255e-01</td>\n",
       "      <td>-4.567599e-01</td>\n",
       "      <td>-4.239022e-01</td>\n",
       "    </tr>\n",
       "    <tr>\n",
       "      <th>50%</th>\n",
       "      <td>2.528707e-02</td>\n",
       "      <td>-2.925001e-01</td>\n",
       "      <td>-8.234512e-01</td>\n",
       "      <td>-5.197573e-01</td>\n",
       "      <td>-7.730216e-01</td>\n",
       "      <td>-4.604003e-01</td>\n",
       "      <td>-1.121646e-02</td>\n",
       "      <td>-1.586347e-02</td>\n",
       "      <td>-2.773676e-02</td>\n",
       "      <td>-2.148149e-02</td>\n",
       "      <td>...</td>\n",
       "      <td>-2.490967e-01</td>\n",
       "      <td>-1.833113e-01</td>\n",
       "      <td>-6.543332e-01</td>\n",
       "      <td>-8.766149e-01</td>\n",
       "      <td>-6.014742e-01</td>\n",
       "      <td>-4.011420e-01</td>\n",
       "      <td>-7.399190e-01</td>\n",
       "      <td>-4.727255e-01</td>\n",
       "      <td>-4.567599e-01</td>\n",
       "      <td>-4.239022e-01</td>\n",
       "    </tr>\n",
       "    <tr>\n",
       "      <th>75%</th>\n",
       "      <td>8.258599e-01</td>\n",
       "      <td>9.186361e-01</td>\n",
       "      <td>1.214384e+00</td>\n",
       "      <td>9.138843e-01</td>\n",
       "      <td>1.150176e+00</td>\n",
       "      <td>-4.604003e-01</td>\n",
       "      <td>-1.121646e-02</td>\n",
       "      <td>-1.586347e-02</td>\n",
       "      <td>-2.773676e-02</td>\n",
       "      <td>-2.148149e-02</td>\n",
       "      <td>...</td>\n",
       "      <td>-2.490967e-01</td>\n",
       "      <td>-1.833113e-01</td>\n",
       "      <td>1.528252e+00</td>\n",
       "      <td>1.140736e+00</td>\n",
       "      <td>1.662559e+00</td>\n",
       "      <td>-4.011420e-01</td>\n",
       "      <td>1.351480e+00</td>\n",
       "      <td>-4.727255e-01</td>\n",
       "      <td>-4.567599e-01</td>\n",
       "      <td>-4.239022e-01</td>\n",
       "    </tr>\n",
       "    <tr>\n",
       "      <th>max</th>\n",
       "      <td>1.786899e+00</td>\n",
       "      <td>1.826988e+00</td>\n",
       "      <td>1.214384e+00</td>\n",
       "      <td>2.586466e+00</td>\n",
       "      <td>2.004931e+00</td>\n",
       "      <td>3.109071e+00</td>\n",
       "      <td>8.915343e+01</td>\n",
       "      <td>6.303703e+01</td>\n",
       "      <td>3.605274e+01</td>\n",
       "      <td>4.655105e+01</td>\n",
       "      <td>...</td>\n",
       "      <td>4.014449e+00</td>\n",
       "      <td>5.455126e+00</td>\n",
       "      <td>1.528252e+00</td>\n",
       "      <td>1.140736e+00</td>\n",
       "      <td>1.662559e+00</td>\n",
       "      <td>2.492848e+00</td>\n",
       "      <td>1.351480e+00</td>\n",
       "      <td>2.115363e+00</td>\n",
       "      <td>2.189304e+00</td>\n",
       "      <td>2.359002e+00</td>\n",
       "    </tr>\n",
       "  </tbody>\n",
       "</table>\n",
       "<p>8 rows × 3310 columns</p>\n",
       "</div>"
      ],
      "text/plain": [
       "            User_ID    Occupation  Marital_Status  Product_Category_1  \\\n",
       "count  7.154500e+04  7.154500e+04    7.154500e+04        7.154500e+04   \n",
       "mean   2.390887e-14 -1.016477e-15   -5.280686e-16        1.014681e-15   \n",
       "std    1.000000e+00  1.000000e+00    1.000000e+00        1.000000e+00   \n",
       "min   -1.749794e+00 -1.200852e+00   -8.234512e-01       -1.475518e+00   \n",
       "25%   -8.853865e-01 -8.980682e-01   -8.234512e-01       -7.586975e-01   \n",
       "50%    2.528707e-02 -2.925001e-01   -8.234512e-01       -5.197573e-01   \n",
       "75%    8.258599e-01  9.186361e-01    1.214384e+00        9.138843e-01   \n",
       "max    1.786899e+00  1.826988e+00    1.214384e+00        2.586466e+00   \n",
       "\n",
       "       Product_Category_2  Product_Category_3  Product_ID_P00000142  \\\n",
       "count        7.154500e+04        7.154500e+04          7.154500e+04   \n",
       "mean        -3.053909e-17        1.077139e-16         -1.296632e-15   \n",
       "std          1.000000e+00        1.000000e+00          1.000000e+00   \n",
       "min         -1.414088e+00       -7.153625e-01         -1.121646e-02   \n",
       "25%         -7.730216e-01       -4.604003e-01         -1.121646e-02   \n",
       "50%         -7.730216e-01       -4.604003e-01         -1.121646e-02   \n",
       "75%          1.150176e+00       -4.604003e-01         -1.121646e-02   \n",
       "max          2.004931e+00        3.109071e+00          8.915343e+01   \n",
       "\n",
       "       Product_ID_P00000242  Product_ID_P00000342  Product_ID_P00000442  \\\n",
       "count          7.154500e+04          7.154500e+04          7.154500e+04   \n",
       "mean          -2.102192e-15          2.609924e-15          2.317787e-15   \n",
       "std            1.000000e+00          1.000000e+00          1.000000e+00   \n",
       "min           -1.586347e-02         -2.773676e-02         -2.148149e-02   \n",
       "25%           -1.586347e-02         -2.773676e-02         -2.148149e-02   \n",
       "50%           -1.586347e-02         -2.773676e-02         -2.148149e-02   \n",
       "75%           -1.586347e-02         -2.773676e-02         -2.148149e-02   \n",
       "max            6.303703e+01          3.605274e+01          4.655105e+01   \n",
       "\n",
       "                   ...                   Age_51-55       Age_55+  \\\n",
       "count              ...                7.154500e+04  7.154500e+04   \n",
       "mean               ...                9.544155e-16 -2.317470e-15   \n",
       "std                ...                1.000000e+00  1.000000e+00   \n",
       "min                ...               -2.490967e-01 -1.833113e-01   \n",
       "25%                ...               -2.490967e-01 -1.833113e-01   \n",
       "50%                ...               -2.490967e-01 -1.833113e-01   \n",
       "75%                ...               -2.490967e-01 -1.833113e-01   \n",
       "max                ...                4.014449e+00  5.455126e+00   \n",
       "\n",
       "       City_Category_A  City_Category_B  City_Category_C  \\\n",
       "count     7.154500e+04     7.154500e+04     7.154500e+04   \n",
       "mean      9.271623e-16     5.032494e-16    -8.497252e-17   \n",
       "std       1.000000e+00     1.000000e+00     1.000000e+00   \n",
       "min      -6.543332e-01    -8.766149e-01    -6.014742e-01   \n",
       "25%      -6.543332e-01    -8.766149e-01    -6.014742e-01   \n",
       "50%      -6.543332e-01    -8.766149e-01    -6.014742e-01   \n",
       "75%       1.528252e+00     1.140736e+00     1.662559e+00   \n",
       "max       1.528252e+00     1.140736e+00     1.662559e+00   \n",
       "\n",
       "       Stay_In_Current_City_Years_0  Stay_In_Current_City_Years_1  \\\n",
       "count                  7.154500e+04                  7.154500e+04   \n",
       "mean                  -5.013919e-16                  3.932342e-16   \n",
       "std                    1.000000e+00                  1.000000e+00   \n",
       "min                   -4.011420e-01                 -7.399190e-01   \n",
       "25%                   -4.011420e-01                 -7.399190e-01   \n",
       "50%                   -4.011420e-01                 -7.399190e-01   \n",
       "75%                   -4.011420e-01                  1.351480e+00   \n",
       "max                    2.492848e+00                  1.351480e+00   \n",
       "\n",
       "       Stay_In_Current_City_Years_2  Stay_In_Current_City_Years_3  \\\n",
       "count                  7.154500e+04                  7.154500e+04   \n",
       "mean                   2.281369e-15                  1.627456e-15   \n",
       "std                    1.000000e+00                  1.000000e+00   \n",
       "min                   -4.727255e-01                 -4.567599e-01   \n",
       "25%                   -4.727255e-01                 -4.567599e-01   \n",
       "50%                   -4.727255e-01                 -4.567599e-01   \n",
       "75%                   -4.727255e-01                 -4.567599e-01   \n",
       "max                    2.115363e+00                  2.189304e+00   \n",
       "\n",
       "       Stay_In_Current_City_Years_4+  \n",
       "count                   7.154500e+04  \n",
       "mean                   -5.186418e-15  \n",
       "std                     1.000000e+00  \n",
       "min                    -4.239022e-01  \n",
       "25%                    -4.239022e-01  \n",
       "50%                    -4.239022e-01  \n",
       "75%                    -4.239022e-01  \n",
       "max                     2.359002e+00  \n",
       "\n",
       "[8 rows x 3310 columns]"
      ]
     },
     "execution_count": 50,
     "metadata": {},
     "output_type": "execute_result"
    }
   ],
   "source": [
    "X_train.describe()"
   ]
  },
  {
   "cell_type": "markdown",
   "metadata": {},
   "source": [
    "We use train_mean and train_std_dev to standardize test data set"
   ]
  },
  {
   "cell_type": "code",
   "execution_count": 51,
   "metadata": {},
   "outputs": [],
   "source": [
    "X_test = (X_test - train_mean) / train_std"
   ]
  },
  {
   "cell_type": "markdown",
   "metadata": {},
   "source": [
    "Check for mean and std dev. - not exactly 0 and 1"
   ]
  },
  {
   "cell_type": "code",
   "execution_count": 52,
   "metadata": {},
   "outputs": [
    {
     "data": {
      "text/html": [
       "<div>\n",
       "<style scoped>\n",
       "    .dataframe tbody tr th:only-of-type {\n",
       "        vertical-align: middle;\n",
       "    }\n",
       "\n",
       "    .dataframe tbody tr th {\n",
       "        vertical-align: top;\n",
       "    }\n",
       "\n",
       "    .dataframe thead th {\n",
       "        text-align: right;\n",
       "    }\n",
       "</style>\n",
       "<table border=\"1\" class=\"dataframe\">\n",
       "  <thead>\n",
       "    <tr style=\"text-align: right;\">\n",
       "      <th></th>\n",
       "      <th>User_ID</th>\n",
       "      <th>Occupation</th>\n",
       "      <th>Marital_Status</th>\n",
       "      <th>Product_Category_1</th>\n",
       "      <th>Product_Category_2</th>\n",
       "      <th>Product_Category_3</th>\n",
       "      <th>Product_ID_P00000142</th>\n",
       "      <th>Product_ID_P00000242</th>\n",
       "      <th>Product_ID_P00000342</th>\n",
       "      <th>Product_ID_P00000442</th>\n",
       "      <th>...</th>\n",
       "      <th>Age_51-55</th>\n",
       "      <th>Age_55+</th>\n",
       "      <th>City_Category_A</th>\n",
       "      <th>City_Category_B</th>\n",
       "      <th>City_Category_C</th>\n",
       "      <th>Stay_In_Current_City_Years_0</th>\n",
       "      <th>Stay_In_Current_City_Years_1</th>\n",
       "      <th>Stay_In_Current_City_Years_2</th>\n",
       "      <th>Stay_In_Current_City_Years_3</th>\n",
       "      <th>Stay_In_Current_City_Years_4+</th>\n",
       "    </tr>\n",
       "  </thead>\n",
       "  <tbody>\n",
       "    <tr>\n",
       "      <th>count</th>\n",
       "      <td>17887.000000</td>\n",
       "      <td>17887.000000</td>\n",
       "      <td>17887.000000</td>\n",
       "      <td>17887.000000</td>\n",
       "      <td>17887.000000</td>\n",
       "      <td>17887.000000</td>\n",
       "      <td>17887.000000</td>\n",
       "      <td>17887.000000</td>\n",
       "      <td>17887.000000</td>\n",
       "      <td>17887.000000</td>\n",
       "      <td>...</td>\n",
       "      <td>17887.000000</td>\n",
       "      <td>17887.000000</td>\n",
       "      <td>17887.000000</td>\n",
       "      <td>17887.000000</td>\n",
       "      <td>17887.000000</td>\n",
       "      <td>17887.000000</td>\n",
       "      <td>17887.000000</td>\n",
       "      <td>17887.000000</td>\n",
       "      <td>17887.000000</td>\n",
       "      <td>17887.000000</td>\n",
       "    </tr>\n",
       "    <tr>\n",
       "      <th>mean</th>\n",
       "      <td>-0.007062</td>\n",
       "      <td>0.005392</td>\n",
       "      <td>-0.004990</td>\n",
       "      <td>-0.008601</td>\n",
       "      <td>0.007796</td>\n",
       "      <td>0.003412</td>\n",
       "      <td>-0.006232</td>\n",
       "      <td>0.001762</td>\n",
       "      <td>0.006555</td>\n",
       "      <td>-0.008463</td>\n",
       "      <td>...</td>\n",
       "      <td>0.009047</td>\n",
       "      <td>0.016226</td>\n",
       "      <td>-0.017629</td>\n",
       "      <td>-0.000065</td>\n",
       "      <td>0.018360</td>\n",
       "      <td>-0.012515</td>\n",
       "      <td>0.001957</td>\n",
       "      <td>0.003163</td>\n",
       "      <td>0.001090</td>\n",
       "      <td>0.004883</td>\n",
       "    </tr>\n",
       "    <tr>\n",
       "      <th>std</th>\n",
       "      <td>1.000470</td>\n",
       "      <td>0.997984</td>\n",
       "      <td>0.999033</td>\n",
       "      <td>0.989831</td>\n",
       "      <td>0.999906</td>\n",
       "      <td>1.001694</td>\n",
       "      <td>0.666690</td>\n",
       "      <td>1.054078</td>\n",
       "      <td>1.111818</td>\n",
       "      <td>0.778570</td>\n",
       "      <td>...</td>\n",
       "      <td>1.016872</td>\n",
       "      <td>1.041790</td>\n",
       "      <td>0.992131</td>\n",
       "      <td>1.000012</td>\n",
       "      <td>1.009548</td>\n",
       "      <td>0.986765</td>\n",
       "      <td>1.000617</td>\n",
       "      <td>1.002611</td>\n",
       "      <td>1.000964</td>\n",
       "      <td>1.004723</td>\n",
       "    </tr>\n",
       "    <tr>\n",
       "      <th>min</th>\n",
       "      <td>-1.749794</td>\n",
       "      <td>-1.200852</td>\n",
       "      <td>-0.823451</td>\n",
       "      <td>-1.475518</td>\n",
       "      <td>-1.414088</td>\n",
       "      <td>-0.715363</td>\n",
       "      <td>-0.011216</td>\n",
       "      <td>-0.015863</td>\n",
       "      <td>-0.027737</td>\n",
       "      <td>-0.021481</td>\n",
       "      <td>...</td>\n",
       "      <td>-0.249097</td>\n",
       "      <td>-0.183311</td>\n",
       "      <td>-0.654333</td>\n",
       "      <td>-0.876615</td>\n",
       "      <td>-0.601474</td>\n",
       "      <td>-0.401142</td>\n",
       "      <td>-0.739919</td>\n",
       "      <td>-0.472725</td>\n",
       "      <td>-0.456760</td>\n",
       "      <td>-0.423902</td>\n",
       "    </tr>\n",
       "    <tr>\n",
       "      <th>25%</th>\n",
       "      <td>-0.889486</td>\n",
       "      <td>-0.898068</td>\n",
       "      <td>-0.823451</td>\n",
       "      <td>-0.758698</td>\n",
       "      <td>-0.773022</td>\n",
       "      <td>-0.460400</td>\n",
       "      <td>-0.011216</td>\n",
       "      <td>-0.015863</td>\n",
       "      <td>-0.027737</td>\n",
       "      <td>-0.021481</td>\n",
       "      <td>...</td>\n",
       "      <td>-0.249097</td>\n",
       "      <td>-0.183311</td>\n",
       "      <td>-0.654333</td>\n",
       "      <td>-0.876615</td>\n",
       "      <td>-0.601474</td>\n",
       "      <td>-0.401142</td>\n",
       "      <td>-0.739919</td>\n",
       "      <td>-0.472725</td>\n",
       "      <td>-0.456760</td>\n",
       "      <td>-0.423902</td>\n",
       "    </tr>\n",
       "    <tr>\n",
       "      <th>50%</th>\n",
       "      <td>0.013574</td>\n",
       "      <td>-0.141108</td>\n",
       "      <td>-0.823451</td>\n",
       "      <td>-0.519757</td>\n",
       "      <td>-0.773022</td>\n",
       "      <td>-0.460400</td>\n",
       "      <td>-0.011216</td>\n",
       "      <td>-0.015863</td>\n",
       "      <td>-0.027737</td>\n",
       "      <td>-0.021481</td>\n",
       "      <td>...</td>\n",
       "      <td>-0.249097</td>\n",
       "      <td>-0.183311</td>\n",
       "      <td>-0.654333</td>\n",
       "      <td>-0.876615</td>\n",
       "      <td>-0.601474</td>\n",
       "      <td>-0.401142</td>\n",
       "      <td>-0.739919</td>\n",
       "      <td>-0.472725</td>\n",
       "      <td>-0.456760</td>\n",
       "      <td>-0.423902</td>\n",
       "    </tr>\n",
       "    <tr>\n",
       "      <th>75%</th>\n",
       "      <td>0.815318</td>\n",
       "      <td>0.918636</td>\n",
       "      <td>1.214384</td>\n",
       "      <td>0.913884</td>\n",
       "      <td>1.150176</td>\n",
       "      <td>-0.460400</td>\n",
       "      <td>-0.011216</td>\n",
       "      <td>-0.015863</td>\n",
       "      <td>-0.027737</td>\n",
       "      <td>-0.021481</td>\n",
       "      <td>...</td>\n",
       "      <td>-0.249097</td>\n",
       "      <td>-0.183311</td>\n",
       "      <td>1.528252</td>\n",
       "      <td>1.140736</td>\n",
       "      <td>1.662559</td>\n",
       "      <td>-0.401142</td>\n",
       "      <td>1.351480</td>\n",
       "      <td>-0.472725</td>\n",
       "      <td>-0.456760</td>\n",
       "      <td>-0.423902</td>\n",
       "    </tr>\n",
       "    <tr>\n",
       "      <th>max</th>\n",
       "      <td>1.786899</td>\n",
       "      <td>1.826988</td>\n",
       "      <td>1.214384</td>\n",
       "      <td>2.586466</td>\n",
       "      <td>2.004931</td>\n",
       "      <td>3.109071</td>\n",
       "      <td>89.153426</td>\n",
       "      <td>63.037026</td>\n",
       "      <td>36.052739</td>\n",
       "      <td>46.551047</td>\n",
       "      <td>...</td>\n",
       "      <td>4.014449</td>\n",
       "      <td>5.455126</td>\n",
       "      <td>1.528252</td>\n",
       "      <td>1.140736</td>\n",
       "      <td>1.662559</td>\n",
       "      <td>2.492848</td>\n",
       "      <td>1.351480</td>\n",
       "      <td>2.115363</td>\n",
       "      <td>2.189304</td>\n",
       "      <td>2.359002</td>\n",
       "    </tr>\n",
       "  </tbody>\n",
       "</table>\n",
       "<p>8 rows × 3310 columns</p>\n",
       "</div>"
      ],
      "text/plain": [
       "            User_ID    Occupation  Marital_Status  Product_Category_1  \\\n",
       "count  17887.000000  17887.000000    17887.000000        17887.000000   \n",
       "mean      -0.007062      0.005392       -0.004990           -0.008601   \n",
       "std        1.000470      0.997984        0.999033            0.989831   \n",
       "min       -1.749794     -1.200852       -0.823451           -1.475518   \n",
       "25%       -0.889486     -0.898068       -0.823451           -0.758698   \n",
       "50%        0.013574     -0.141108       -0.823451           -0.519757   \n",
       "75%        0.815318      0.918636        1.214384            0.913884   \n",
       "max        1.786899      1.826988        1.214384            2.586466   \n",
       "\n",
       "       Product_Category_2  Product_Category_3  Product_ID_P00000142  \\\n",
       "count        17887.000000        17887.000000          17887.000000   \n",
       "mean             0.007796            0.003412             -0.006232   \n",
       "std              0.999906            1.001694              0.666690   \n",
       "min             -1.414088           -0.715363             -0.011216   \n",
       "25%             -0.773022           -0.460400             -0.011216   \n",
       "50%             -0.773022           -0.460400             -0.011216   \n",
       "75%              1.150176           -0.460400             -0.011216   \n",
       "max              2.004931            3.109071             89.153426   \n",
       "\n",
       "       Product_ID_P00000242  Product_ID_P00000342  Product_ID_P00000442  \\\n",
       "count          17887.000000          17887.000000          17887.000000   \n",
       "mean               0.001762              0.006555             -0.008463   \n",
       "std                1.054078              1.111818              0.778570   \n",
       "min               -0.015863             -0.027737             -0.021481   \n",
       "25%               -0.015863             -0.027737             -0.021481   \n",
       "50%               -0.015863             -0.027737             -0.021481   \n",
       "75%               -0.015863             -0.027737             -0.021481   \n",
       "max               63.037026             36.052739             46.551047   \n",
       "\n",
       "                   ...                   Age_51-55       Age_55+  \\\n",
       "count              ...                17887.000000  17887.000000   \n",
       "mean               ...                    0.009047      0.016226   \n",
       "std                ...                    1.016872      1.041790   \n",
       "min                ...                   -0.249097     -0.183311   \n",
       "25%                ...                   -0.249097     -0.183311   \n",
       "50%                ...                   -0.249097     -0.183311   \n",
       "75%                ...                   -0.249097     -0.183311   \n",
       "max                ...                    4.014449      5.455126   \n",
       "\n",
       "       City_Category_A  City_Category_B  City_Category_C  \\\n",
       "count     17887.000000     17887.000000     17887.000000   \n",
       "mean         -0.017629        -0.000065         0.018360   \n",
       "std           0.992131         1.000012         1.009548   \n",
       "min          -0.654333        -0.876615        -0.601474   \n",
       "25%          -0.654333        -0.876615        -0.601474   \n",
       "50%          -0.654333        -0.876615        -0.601474   \n",
       "75%           1.528252         1.140736         1.662559   \n",
       "max           1.528252         1.140736         1.662559   \n",
       "\n",
       "       Stay_In_Current_City_Years_0  Stay_In_Current_City_Years_1  \\\n",
       "count                  17887.000000                  17887.000000   \n",
       "mean                      -0.012515                      0.001957   \n",
       "std                        0.986765                      1.000617   \n",
       "min                       -0.401142                     -0.739919   \n",
       "25%                       -0.401142                     -0.739919   \n",
       "50%                       -0.401142                     -0.739919   \n",
       "75%                       -0.401142                      1.351480   \n",
       "max                        2.492848                      1.351480   \n",
       "\n",
       "       Stay_In_Current_City_Years_2  Stay_In_Current_City_Years_3  \\\n",
       "count                  17887.000000                  17887.000000   \n",
       "mean                       0.003163                      0.001090   \n",
       "std                        1.002611                      1.000964   \n",
       "min                       -0.472725                     -0.456760   \n",
       "25%                       -0.472725                     -0.456760   \n",
       "50%                       -0.472725                     -0.456760   \n",
       "75%                       -0.472725                     -0.456760   \n",
       "max                        2.115363                      2.189304   \n",
       "\n",
       "       Stay_In_Current_City_Years_4+  \n",
       "count                   17887.000000  \n",
       "mean                        0.004883  \n",
       "std                         1.004723  \n",
       "min                        -0.423902  \n",
       "25%                        -0.423902  \n",
       "50%                        -0.423902  \n",
       "75%                        -0.423902  \n",
       "max                         2.359002  \n",
       "\n",
       "[8 rows x 3310 columns]"
      ]
     },
     "execution_count": 52,
     "metadata": {},
     "output_type": "execute_result"
    }
   ],
   "source": [
    "X_test.describe()"
   ]
  },
  {
   "cell_type": "markdown",
   "metadata": {},
   "source": [
    "# Model 1 - Baseline Model"
   ]
  },
  {
   "cell_type": "code",
   "execution_count": 53,
   "metadata": {},
   "outputs": [],
   "source": [
    "# Predict Train results\n",
    "y_train_pred = np.ones(y_train.shape[0])*y_train.mean()"
   ]
  },
  {
   "cell_type": "code",
   "execution_count": 54,
   "metadata": {},
   "outputs": [],
   "source": [
    "## Predict Test results\n",
    "y_pred = np.ones(y_test.shape[0])*y_train.mean()\n",
    "from sklearn.metrics import r2_score"
   ]
  },
  {
   "cell_type": "code",
   "execution_count": 55,
   "metadata": {},
   "outputs": [
    {
     "name": "stdout",
     "output_type": "stream",
     "text": [
      "Train Results for Baseline Model:\n",
      "*******************************\n",
      "Root mean squared error:  1180.3864743063734\n",
      "R-squared:  0.0\n",
      "Mean Absolute Error:  1033.336273345214\n"
     ]
    }
   ],
   "source": [
    "print(\"Train Results for Baseline Model:\")\n",
    "print(\"*******************************\")\n",
    "print(\"Root mean squared error: \", sqrt(mse(y_train.values, y_train_pred)))\n",
    "print(\"R-squared: \", r2_score(y_train.values, y_train_pred))\n",
    "print(\"Mean Absolute Error: \", mae(y_train.values, y_train_pred))"
   ]
  },
  {
   "cell_type": "code",
   "execution_count": 56,
   "metadata": {},
   "outputs": [
    {
     "name": "stdout",
     "output_type": "stream",
     "text": [
      "Results for Baseline Model:\n",
      "*******************************\n",
      "Root mean squared error:  1171.2037174601737\n",
      "R-squared:  -0.00022609014110597236\n",
      "Mean Absolute Error:  1024.6952617534753\n"
     ]
    }
   ],
   "source": [
    "print(\"Results for Baseline Model:\")\n",
    "print(\"*******************************\")\n",
    "print(\"Root mean squared error: \", sqrt(mse(y_test, y_pred)))\n",
    "print(\"R-squared: \", r2_score(y_test, y_pred))\n",
    "print(\"Mean Absolute Error: \", mae(y_test, y_pred))"
   ]
  },
  {
   "cell_type": "markdown",
   "metadata": {},
   "source": [
    "# Model-2 Ridge Regression"
   ]
  },
  {
   "cell_type": "code",
   "execution_count": null,
   "metadata": {},
   "outputs": [],
   "source": [
    "tuned_params = {'alpha': [0.0001, 0.001, 0.01, 0.1, 1, 10, 100, 1000, 10000, 100000]}\n",
    "model = GridSearchCV(Ridge(), tuned_params, scoring = 'neg_mean_absolute_error', cv=10, n_jobs=-1)\n",
    "model.fit(X_train, y_train)"
   ]
  },
  {
   "cell_type": "code",
   "execution_count": null,
   "metadata": {},
   "outputs": [],
   "source": []
  }
 ],
 "metadata": {
  "kernelspec": {
   "display_name": "Python 3",
   "language": "python",
   "name": "python3"
  },
  "language_info": {
   "codemirror_mode": {
    "name": "ipython",
    "version": 3
   },
   "file_extension": ".py",
   "mimetype": "text/x-python",
   "name": "python",
   "nbconvert_exporter": "python",
   "pygments_lexer": "ipython3",
   "version": "3.7.1"
  }
 },
 "nbformat": 4,
 "nbformat_minor": 2
}
